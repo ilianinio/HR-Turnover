{
 "cells": [
  {
   "cell_type": "code",
   "execution_count": 0,
   "metadata": {
    "application/vnd.databricks.v1+cell": {
     "cellMetadata": {
      "byteLimit": 2048000,
      "rowLimit": 10000
     },
     "inputWidgets": {},
     "nuid": "cdfaec82-0e3c-4b8a-b432-398073e40573",
     "showTitle": false,
     "tableResultSettingsMap": {},
     "title": ""
    }
   },
   "outputs": [],
   "source": [
    "import pandas as pd\n",
    "import numpy as np\n",
    "import os"
   ]
  },
  {
   "cell_type": "code",
   "execution_count": 0,
   "metadata": {
    "application/vnd.databricks.v1+cell": {
     "cellMetadata": {
      "byteLimit": 2048000,
      "rowLimit": 10000
     },
     "inputWidgets": {},
     "nuid": "ab716c4c-ebe1-4fcf-a35c-6aee898ad00f",
     "showTitle": false,
     "tableResultSettingsMap": {},
     "title": ""
    }
   },
   "outputs": [
    {
     "output_type": "display_data",
     "data": {
      "text/markdown": [
       "## Utils functions used in notebooks"
      ]
     },
     "metadata": {},
     "output_type": "display_data"
    },
    {
     "output_type": "stream",
     "name": "stdout",
     "output_type": "stream",
     "text": [
      "Collecting Unidecode\n  Downloading Unidecode-1.4.0-py3-none-any.whl.metadata (13 kB)\nDownloading Unidecode-1.4.0-py3-none-any.whl (235 kB)\nInstalling collected packages: Unidecode\nSuccessfully installed Unidecode-1.4.0\n\u001B[43mNote: you may need to restart the kernel using %restart_python or dbutils.library.restartPython() to use updated packages.\u001B[0m\n"
     ]
    }
   ],
   "source": [
    "%run ./utils/user_defined_functions"
   ]
  },
  {
   "cell_type": "markdown",
   "metadata": {
    "application/vnd.databricks.v1+cell": {
     "cellMetadata": {},
     "inputWidgets": {},
     "nuid": "bc0ed054-6165-49ba-97cb-13d941150b33",
     "showTitle": false,
     "tableResultSettingsMap": {},
     "title": ""
    }
   },
   "source": [
    "## Read files gptw before 2022"
   ]
  },
  {
   "cell_type": "markdown",
   "metadata": {
    "application/vnd.databricks.v1+cell": {
     "cellMetadata": {},
     "inputWidgets": {},
     "nuid": "a5f83cdd-9e09-4847-9c8c-e21e74429200",
     "showTitle": false,
     "tableResultSettingsMap": {},
     "title": ""
    }
   },
   "source": [
    "Depending on the year of the survey, the files are read differently:"
   ]
  },
  {
   "cell_type": "code",
   "execution_count": 0,
   "metadata": {
    "application/vnd.databricks.v1+cell": {
     "cellMetadata": {
      "byteLimit": 2048000,
      "rowLimit": 10000
     },
     "inputWidgets": {},
     "nuid": "a2a3a228-ca22-4a19-b916-03ae27f39659",
     "showTitle": false,
     "tableResultSettingsMap": {},
     "title": ""
    }
   },
   "outputs": [],
   "source": [
    "def read_single_file(path, filename, year):\n",
    "    # extract country from file name\n",
    "    country = filename.split('_')[0]  # Usa il primo elemento separato da _\n",
    "    print(country)\n",
    "    # KPI names\n",
    "    kpi_names = [\"Credibility\", \"Respect\", \"Fairness\", \"Pride\", \"Camaraderie\", \"Overall\", \"Campari Questions\"]\n",
    "    n_kpi = len(kpi_names)\n",
    "    # parameters based on survey year\n",
    "    if year == \"2016\":\n",
    "        sheet = 3\n",
    "        skip = 3\n",
    "        skip_data = 3\n",
    "        start_select = 'General Management'\n",
    "        end_select = 'Assistants'\n",
    "        statement_col = \"Results for:\"\n",
    "        statement_gptw_overall = \"X1: Taking everything into account, I would say this is a great place to work.\"\n",
    "        overall_col = country\n",
    "        if country == \"United Kingdom\": overall_col = \"UK\"\n",
    "        if country == \"United States\": overall_col = \"USA\"\n",
    "        nresp_col = \"Number of answers\"\n",
    "        overall_val = kpi_names\n",
    "        overall_col2search = \"statement\"\n",
    "    elif year == \"2018\":\n",
    "        sheet = 4\n",
    "        if country in [\"South Africa\", \"Peru\", \"France\"]: sheet = 3\n",
    "        skip = 1\n",
    "        skip_data = 1\n",
    "        start_select = 'Commercial: Customer Marketing'\n",
    "        end_select = 'Global Supply Chain Functions'\n",
    "        statement_col = \"...3\"\n",
    "        statement_gptw_overall = \"Taking everything into account, I would say this is a great place to work.\"\n",
    "        overall_col = f\"{country}.1\"\n",
    "        nresp_col = \"Number Of Responses\"\n",
    "        overall_val = \"Average\"\n",
    "        overall_col2search = \"statement_idx\"\n",
    "    elif year == \"2020\":\n",
    "        sheet = 6\n",
    "        if country in [\"Singapore\", \"Japan\"]: sheet = 5\n",
    "        skip = 1\n",
    "        skip_data = 1\n",
    "        start_select = 'Commercial: Customer Marketing'\n",
    "        if country == 'Greece':\n",
    "            start_select = \"Commercial: Sales\"\n",
    "        elif country in ['Mexico', 'Jamaica', 'Supply Chain Europe', 'Supply Chain Asia Pacific', 'Supply Chain Americas']:\n",
    "            start_select = 'Agriculture'\n",
    "        end_select = 'Global Supply Chain Functions'\n",
    "        statement_col = \"...3\"\n",
    "        statement_gptw_overall = \"Taking everything into account, I would say this is a great place to work.\"\n",
    "        overall_col = f\"Result {year}/{int(year[2:])+1}\"\n",
    "        nresp_col = \"Number Of Responses\"\n",
    "        overall_val = \"Average\"\n",
    "        overall_col2search = \"statement_idx\"\n",
    "\n",
    "    try:\n",
    "        data = pd.read_excel(path + filename, sheet_name=sheet, skiprows=skip_data, na_values=[\" \", \"-\"])\n",
    "        functions = pd.read_excel(path + filename, sheet_name=sheet, skiprows=skip, nrows=1)\n",
    "        if year in ['2016', '2020']:\n",
    "            functions = functions.loc[:, start_select: end_select].columns.tolist() \n",
    "            print(functions)\n",
    "        elif year == '2018':\n",
    "            start_select = functions.columns[5]\n",
    "            print(start_select)\n",
    "            functions = functions.loc[:, start_select:]  # take columns from start select\n",
    "            print(functions)\n",
    "\n",
    "            if end_select in functions.columns:\n",
    "                functions = functions.loc[:, :end_select].columns.tolist()\n",
    "                print(functions)\n",
    "    except Exception as e:\n",
    "        print(f\"Import not completed for {country}\")\n",
    "        return pd.DataFrame() \n",
    "\n",
    "    try:\n",
    "        if year == \"2016\":\n",
    "        # If year 2016, drop the first column\n",
    "            data = data.drop(columns=[data.columns[0]])\n",
    "            # columns mapping\n",
    "            column_mapping = {\n",
    "                data.columns[0]: \"kpi\",  \n",
    "                data.columns[1]: \"statement_idx\", \n",
    "                statement_col: \"statement\"\n",
    "            }\n",
    "        else:\n",
    "            column_mapping = {\n",
    "            data.columns[0]: \"kpi\",  \n",
    "            data.columns[1]: \"statement_idx\", \n",
    "            data.columns[2]: \"statement\"\n",
    "        }\n",
    "\n",
    "        data[\"overall\"] = data[overall_col]\n",
    "        data = data.rename(columns=column_mapping)\n",
    "        data = data.iloc[:, [0, 1, 2] + [data.columns.get_loc(col) for col in functions] + [data.columns.get_loc(\"overall\")]]\n",
    "        data = data.dropna(subset=[\"kpi\", \"statement_idx\", \"overall\"], how=\"all\")\n",
    "        data[\"kpi\"] = data[\"kpi\"].fillna(method=\"ffill\").fillna(method=\"bfill\")\n",
    "\n",
    "        data = data[\n",
    "            (data[\"kpi\"].isin(kpi_names)) &\n",
    "            ((data[overall_col2search] == overall_val) if isinstance(overall_val, str) else data[overall_col2search].isin(overall_val)) |\n",
    "            (data[\"statement\"] == statement_gptw_overall) |\n",
    "            (data[\"statement\"] == nresp_col)\n",
    "        ]\n",
    "\n",
    "        data[\"kpi\"] = data[\"kpi\"].where(data[\"statement\"] != nresp_col, \"Responders\")\n",
    "        data[\"kpi\"] = data[\"kpi\"].where(data[\"statement\"] != statement_gptw_overall, \"Overall\")\n",
    "\n",
    "        data = data[[\"kpi\"] + functions + [\"overall\"]]\n",
    "\n",
    "        data.columns = data.columns.to_series().apply(simplify_string)\n",
    "\n",
    "        cols_to_drop = [col for col in data.columns if data[col].isna().sum() in [n_kpi, n_kpi + 1]]\n",
    "        data = data.drop(columns=cols_to_drop)\n",
    "\n",
    "        data = data.melt(id_vars=[\"kpi\"], var_name=\"job_function\", value_name=\"score\").sort_values(by=\"kpi\")\n",
    "        data['score'] = data['score'].astype(float)\n",
    "        data['score'] = np.where(data['kpi'] != 'Responders', np.round(data['score'] * 100), data['score'])\n",
    "\n",
    "        data['score'] = data['score'].apply(lambda x: int(x) if pd.notna(x) else pd.NA)\n",
    "\n",
    "        data = data.pivot(index=[\"job_function\"], columns=\"kpi\", values=\"score\").add_prefix(\"gptw_\").reset_index()\n",
    "\n",
    "        data[\"country\"] = country\n",
    "        data[\"year\"] = int(year)\n",
    "\n",
    "        data.columns = data.columns.to_series().apply(simplify_string)\n",
    "\n",
    "        print(f\"Import completed for {country}\")\n",
    "        return data\n",
    "\n",
    "    except Exception as e:\n",
    "        print(f\"Error in processing file {filename} for {country}: {e}\")\n",
    "        return pd.DataFrame() "
   ]
  },
  {
   "cell_type": "code",
   "execution_count": 0,
   "metadata": {
    "application/vnd.databricks.v1+cell": {
     "cellMetadata": {
      "byteLimit": 2048000,
      "rowLimit": 10000
     },
     "inputWidgets": {},
     "nuid": "5b801e77-c7f4-49a2-bc50-2ce555ed1d62",
     "showTitle": false,
     "tableResultSettingsMap": {},
     "title": ""
    }
   },
   "outputs": [
    {
     "output_type": "stream",
     "name": "stdout",
     "output_type": "stream",
     "text": [
      "Argentina\n['General Management', 'Marketing/Communication', 'Sales', 'Trade Marketing', 'Engineering & Maintenance', 'Logistics & Customer Service', 'Operations/Production', 'Supply Planning', 'Procurement', 'Quality/R&D', 'Agriculture Jamaica ', 'Finance/Internal Audit', 'IT', 'HR', 'Legal', 'Other Supporting Functions', 'Assistants']\nImport completed for Argentina\nAustralia\n['General Management', 'Marketing/Communication', 'Sales', 'Trade Marketing', 'Engineering & Maintenance', 'Logistics & Customer Service', 'Operations/Production', 'Supply Planning', 'Procurement', 'Quality/R&D', 'Agriculture Jamaica ', 'Finance/Internal Audit', 'IT', 'HR', 'Legal', 'Other Supporting Functions', 'Assistants']\nImport completed for Australia\nAustria\n['General Management', 'Marketing/Communication', 'Sales', 'Trade Marketing', 'Engineering & Maintenance', 'Logistics & Customer Service', 'Operations/Production', 'Supply Planning', 'Procurement', 'Quality/R&D', 'Agriculture Jamaica ', 'Finance/Internal Audit', 'IT', 'HR', 'Legal', 'Other Supporting Functions', 'Assistants']\nImport completed for Austria\nBelgium\n['General Management', 'Marketing/Communication', 'Sales', 'Trade Marketing', 'Engineering & Maintenance', 'Logistics & Customer Service', 'Operations/Production', 'Supply Planning', 'Procurement', 'Quality/R&D', 'Agriculture Jamaica ', 'Finance/Internal Audit', 'IT', 'HR', 'Legal', 'Other Supporting Functions', 'Assistants']\nImport completed for Belgium\nBrazil\n['General Management', 'Marketing/Communication', 'Sales', 'Trade Marketing', 'Engineering & Maintenance', 'Logistics & Customer Service', 'Operations/Production', 'Supply Planning', 'Procurement', 'Quality/R&D', 'Agriculture Jamaica ', 'Finance/Internal Audit', 'IT', 'HR', 'Legal', 'Other Supporting Functions', 'Assistants']\nImport completed for Brazil\nCanada\n['General Management', 'Marketing/Communication', 'Sales', 'Trade Marketing', 'Engineering & Maintenance', 'Logistics & Customer Service', 'Operations/Production', 'Supply Planning', 'Procurement', 'Quality/R&D', 'Agriculture Jamaica ', 'Finance/Internal Audit', 'IT', 'HR', 'Legal', 'Other Supporting Functions', 'Assistants']\nImport completed for Canada\nChina\n['General Management', 'Marketing/Communication', 'Sales', 'Trade Marketing', 'Engineering & Maintenance', 'Logistics & Customer Service', 'Operations/Production', 'Supply Planning', 'Procurement', 'Quality/R&D', 'Agriculture Jamaica ', 'Finance/Internal Audit', 'IT', 'HR', 'Legal', 'Other Supporting Functions', 'Assistants']\nImport completed for China\nGermany\n['General Management', 'Marketing/Communication', 'Sales', 'Trade Marketing', 'Engineering & Maintenance', 'Logistics & Customer Service', 'Operations/Production', 'Supply Planning', 'Procurement', 'Quality/R&D', 'Agriculture Jamaica ', 'Finance/Internal Audit', 'IT', 'HR', 'Legal', 'Other Supporting Functions', 'Assistants']\nImport completed for Germany\nGreece\n['General Management', 'Marketing/Communication', 'Sales', 'Trade Marketing', 'Engineering & Maintenance', 'Logistics & Customer Service', 'Operations/Production', 'Supply Planning', 'Procurement', 'Quality/R&D', 'Agriculture Jamaica ', 'Finance/Internal Audit', 'IT', 'HR', 'Legal', 'Other Supporting Functions', 'Assistants']\nImport completed for Greece\nItaly\n['General Management', 'Marketing/Communication', 'Sales', 'Trade Marketing', 'Engineering & Maintenance', 'Logistics & Customer Service', 'Operations/Production', 'Supply Planning', 'Procurement', 'Quality/R&D', 'Agriculture Jamaica ', 'Finance/Internal Audit', 'IT', 'HR', 'Legal', 'Other Supporting Functions', 'Assistants']\nImport completed for Italy\nJamaica\n['General Management', 'Marketing/Communication', 'Sales', 'Trade Marketing', 'Engineering & Maintenance', 'Logistics & Customer Service', 'Operations/Production', 'Supply Planning', 'Procurement', 'Quality/R&D', 'Agriculture Jamaica ', 'Finance/Internal Audit', 'IT', 'HR', 'Legal', 'Other Supporting Functions', 'Assistants']\nImport completed for Jamaica\nMexico\n['General Management', 'Marketing/Communication', 'Sales', 'Trade Marketing', 'Engineering & Maintenance', 'Logistics & Customer Service', 'Operations/Production', 'Supply Planning', 'Procurement', 'Quality/R&D', 'Agriculture Jamaica ', 'Finance/Internal Audit', 'IT', 'HR', 'Legal', 'Other Supporting Functions', 'Assistants']\nImport completed for Mexico\nRussia\n['General Management', 'Marketing/Communication', 'Sales', 'Trade Marketing', 'Engineering & Maintenance', 'Logistics & Customer Service', 'Operations/Production', 'Supply Planning', 'Procurement', 'Quality/R&D', 'Agriculture Jamaica ', 'Finance/Internal Audit', 'IT', 'HR', 'Legal', 'Other Supporting Functions', 'Assistants']\nImport completed for Russia\nSpain\n['General Management', 'Marketing/Communication', 'Sales', 'Trade Marketing', 'Engineering & Maintenance', 'Logistics & Customer Service', 'Operations/Production', 'Supply Planning', 'Procurement', 'Quality/R&D', 'Agriculture Jamaica ', 'Finance/Internal Audit', 'IT', 'HR', 'Legal', 'Other Supporting Functions', 'Assistants']\nImport completed for Spain\nSwitzerland\n['General Management', 'Marketing/Communication', 'Sales', 'Trade Marketing', 'Engineering & Maintenance', 'Logistics & Customer Service', 'Operations/Production', 'Supply Planning', 'Procurement', 'Quality/R&D', 'Agriculture Jamaica ', 'Finance/Internal Audit', 'IT', 'HR', 'Legal', 'Other Supporting Functions', 'Assistants']\nImport completed for Switzerland\nUkraine\n['General Management', 'Marketing/Communication', 'Sales', 'Trade Marketing', 'Engineering & Maintenance', 'Logistics & Customer Service', 'Operations/Production', 'Supply Planning', 'Procurement', 'Quality/R&D', 'Agriculture Jamaica ', 'Finance/Internal Audit', 'IT', 'HR', 'Legal', 'Other Supporting Functions', 'Assistants']\nImport completed for Ukraine\nUnited Kingdom\n['General Management', 'Marketing/Communication', 'Sales', 'Trade Marketing', 'Engineering & Maintenance', 'Logistics & Customer Service', 'Operations/Production', 'Supply Planning', 'Procurement', 'Quality/R&D', 'Agriculture Jamaica ', 'Finance/Internal Audit', 'IT', 'HR', 'Legal', 'Other Supporting Functions', 'Assistants']\nImport completed for United Kingdom\nUnited States\n['General Management', 'Marketing/Communication', 'Sales', 'Trade Marketing', 'Engineering & Maintenance', 'Logistics & Customer Service', 'Operations/Production', 'Supply Planning', 'Procurement', 'Quality/R&D', 'Agriculture Jamaica ', 'Finance/Internal Audit', 'IT', 'HR', 'Legal', 'Other Supporting Functions', 'Assistants']\nImport completed for United States\n"
     ]
    },
    {
     "output_type": "execute_result",
     "data": {
      "text/html": [
       "<div>\n",
       "<style scoped>\n",
       "    .dataframe tbody tr th:only-of-type {\n",
       "        vertical-align: middle;\n",
       "    }\n",
       "\n",
       "    .dataframe tbody tr th {\n",
       "        vertical-align: top;\n",
       "    }\n",
       "\n",
       "    .dataframe thead th {\n",
       "        text-align: right;\n",
       "    }\n",
       "</style>\n",
       "<table border=\"1\" class=\"dataframe\">\n",
       "  <thead>\n",
       "    <tr style=\"text-align: right;\">\n",
       "      <th>kpi</th>\n",
       "      <th>job_function</th>\n",
       "      <th>gptw_camaraderie</th>\n",
       "      <th>gptw_campari_questions</th>\n",
       "      <th>gptw_credibility</th>\n",
       "      <th>gptw_fairness</th>\n",
       "      <th>gptw_overall</th>\n",
       "      <th>gptw_pride</th>\n",
       "      <th>gptw_respect</th>\n",
       "      <th>gptw_responders</th>\n",
       "      <th>country</th>\n",
       "      <th>year</th>\n",
       "    </tr>\n",
       "  </thead>\n",
       "  <tbody>\n",
       "    <tr>\n",
       "      <th>0</th>\n",
       "      <td>engineering_maintenance</td>\n",
       "      <td>84</td>\n",
       "      <td>71</td>\n",
       "      <td>67</td>\n",
       "      <td>67</td>\n",
       "      <td>90</td>\n",
       "      <td>91</td>\n",
       "      <td>65</td>\n",
       "      <td>10</td>\n",
       "      <td>Argentina</td>\n",
       "      <td>2016</td>\n",
       "    </tr>\n",
       "    <tr>\n",
       "      <th>1</th>\n",
       "      <td>finance_internal_audit</td>\n",
       "      <td>61</td>\n",
       "      <td>58</td>\n",
       "      <td>60</td>\n",
       "      <td>61</td>\n",
       "      <td>47</td>\n",
       "      <td>55</td>\n",
       "      <td>67</td>\n",
       "      <td>15</td>\n",
       "      <td>Argentina</td>\n",
       "      <td>2016</td>\n",
       "    </tr>\n",
       "    <tr>\n",
       "      <th>2</th>\n",
       "      <td>logistics_customer_service</td>\n",
       "      <td>79</td>\n",
       "      <td>80</td>\n",
       "      <td>77</td>\n",
       "      <td>72</td>\n",
       "      <td>88</td>\n",
       "      <td>88</td>\n",
       "      <td>81</td>\n",
       "      <td>17</td>\n",
       "      <td>Argentina</td>\n",
       "      <td>2016</td>\n",
       "    </tr>\n",
       "    <tr>\n",
       "      <th>3</th>\n",
       "      <td>marketing_communication</td>\n",
       "      <td>92</td>\n",
       "      <td>79</td>\n",
       "      <td>89</td>\n",
       "      <td>74</td>\n",
       "      <td>100</td>\n",
       "      <td>88</td>\n",
       "      <td>87</td>\n",
       "      <td>10</td>\n",
       "      <td>Argentina</td>\n",
       "      <td>2016</td>\n",
       "    </tr>\n",
       "    <tr>\n",
       "      <th>4</th>\n",
       "      <td>operations_production</td>\n",
       "      <td>77</td>\n",
       "      <td>74</td>\n",
       "      <td>70</td>\n",
       "      <td>63</td>\n",
       "      <td>77</td>\n",
       "      <td>79</td>\n",
       "      <td>65</td>\n",
       "      <td>39</td>\n",
       "      <td>Argentina</td>\n",
       "      <td>2016</td>\n",
       "    </tr>\n",
       "    <tr>\n",
       "      <th>...</th>\n",
       "      <td>...</td>\n",
       "      <td>...</td>\n",
       "      <td>...</td>\n",
       "      <td>...</td>\n",
       "      <td>...</td>\n",
       "      <td>...</td>\n",
       "      <td>...</td>\n",
       "      <td>...</td>\n",
       "      <td>...</td>\n",
       "      <td>...</td>\n",
       "      <td>...</td>\n",
       "    </tr>\n",
       "    <tr>\n",
       "      <th>82</th>\n",
       "      <td>marketing_communication</td>\n",
       "      <td>73</td>\n",
       "      <td>63</td>\n",
       "      <td>55</td>\n",
       "      <td>57</td>\n",
       "      <td>71</td>\n",
       "      <td>73</td>\n",
       "      <td>56</td>\n",
       "      <td>28</td>\n",
       "      <td>United States</td>\n",
       "      <td>2016</td>\n",
       "    </tr>\n",
       "    <tr>\n",
       "      <th>83</th>\n",
       "      <td>operations_production</td>\n",
       "      <td>55</td>\n",
       "      <td>48</td>\n",
       "      <td>37</td>\n",
       "      <td>49</td>\n",
       "      <td>57</td>\n",
       "      <td>56</td>\n",
       "      <td>40</td>\n",
       "      <td>82</td>\n",
       "      <td>United States</td>\n",
       "      <td>2016</td>\n",
       "    </tr>\n",
       "    <tr>\n",
       "      <th>84</th>\n",
       "      <td>overall</td>\n",
       "      <td>68</td>\n",
       "      <td>60</td>\n",
       "      <td>53</td>\n",
       "      <td>61</td>\n",
       "      <td>70</td>\n",
       "      <td>70</td>\n",
       "      <td>54</td>\n",
       "      <td>308</td>\n",
       "      <td>United States</td>\n",
       "      <td>2016</td>\n",
       "    </tr>\n",
       "    <tr>\n",
       "      <th>85</th>\n",
       "      <td>quality_r_d</td>\n",
       "      <td>76</td>\n",
       "      <td>71</td>\n",
       "      <td>73</td>\n",
       "      <td>64</td>\n",
       "      <td>90</td>\n",
       "      <td>76</td>\n",
       "      <td>64</td>\n",
       "      <td>10</td>\n",
       "      <td>United States</td>\n",
       "      <td>2016</td>\n",
       "    </tr>\n",
       "    <tr>\n",
       "      <th>86</th>\n",
       "      <td>sales</td>\n",
       "      <td>80</td>\n",
       "      <td>70</td>\n",
       "      <td>66</td>\n",
       "      <td>72</td>\n",
       "      <td>87</td>\n",
       "      <td>83</td>\n",
       "      <td>65</td>\n",
       "      <td>68</td>\n",
       "      <td>United States</td>\n",
       "      <td>2016</td>\n",
       "    </tr>\n",
       "  </tbody>\n",
       "</table>\n",
       "<p>87 rows × 11 columns</p>\n",
       "</div>"
      ],
      "text/plain": [
       "kpi                job_function gptw_camaraderie  ...        country  year\n",
       "0       engineering_maintenance               84  ...      Argentina  2016\n",
       "1        finance_internal_audit               61  ...      Argentina  2016\n",
       "2    logistics_customer_service               79  ...      Argentina  2016\n",
       "3       marketing_communication               92  ...      Argentina  2016\n",
       "4         operations_production               77  ...      Argentina  2016\n",
       "..                          ...              ...  ...            ...   ...\n",
       "82      marketing_communication               73  ...  United States  2016\n",
       "83        operations_production               55  ...  United States  2016\n",
       "84                      overall               68  ...  United States  2016\n",
       "85                  quality_r_d               76  ...  United States  2016\n",
       "86                        sales               80  ...  United States  2016\n",
       "\n",
       "[87 rows x 11 columns]"
      ]
     },
     "execution_count": 36,
     "metadata": {},
     "output_type": "execute_result"
    }
   ],
   "source": [
    "## 2016 \n",
    "path_2016 = f\"/Volumes/dev_advanced_analytics_hr/default/input_files/hr_turnover/input/gptw_survey/2016/\" \n",
    "file_names = [f.name for f in dbutils.fs.ls(path_2016) if f.name.endswith(\".xlsx\")] \n",
    "gptw2016 = pd.concat([read_single_file(path_2016, f, \"2016\") for f in file_names], ignore_index=True) \n",
    "gptw2016"
   ]
  },
  {
   "cell_type": "code",
   "execution_count": 0,
   "metadata": {
    "application/vnd.databricks.v1+cell": {
     "cellMetadata": {
      "byteLimit": 2048000,
      "rowLimit": 10000
     },
     "inputWidgets": {},
     "nuid": "b6fe0b81-f60a-44ac-8112-87ef3a161e99",
     "showTitle": false,
     "tableResultSettingsMap": {},
     "title": ""
    }
   },
   "outputs": [
    {
     "output_type": "execute_result",
     "data": {
      "text/plain": [
       "Italy             16\n",
       "Jamaica           12\n",
       "Brazil             9\n",
       "Argentina          8\n",
       "United States      7\n",
       "Russia             6\n",
       "Australia          4\n",
       "Mexico             4\n",
       "Canada             3\n",
       "Germany            3\n",
       "United Kingdom     3\n",
       "Belgium            2\n",
       "China              2\n",
       "Spain              2\n",
       "Switzerland        2\n",
       "Ukraine            2\n",
       "Greece             1\n",
       "Austria            1\n",
       "Name: country, dtype: int64"
      ]
     },
     "execution_count": 37,
     "metadata": {},
     "output_type": "execute_result"
    }
   ],
   "source": [
    "gptw2016['country'].value_counts()"
   ]
  },
  {
   "cell_type": "code",
   "execution_count": 0,
   "metadata": {
    "application/vnd.databricks.v1+cell": {
     "cellMetadata": {
      "byteLimit": 2048000,
      "rowLimit": 10000
     },
     "inputWidgets": {},
     "nuid": "aeffb522-5b0d-4e93-a24d-e35aefdbc0f1",
     "showTitle": false,
     "tableResultSettingsMap": {},
     "title": ""
    }
   },
   "outputs": [
    {
     "output_type": "stream",
     "name": "stdout",
     "output_type": "stream",
     "text": [
      "Aggregated Asia\nImport not completed for Aggregated Asia\nArgentina\nCommercial: Customer Marketing\n   Commercial: Customer Marketing  ...  Blue Collars, Hourly, Task Workers\n0                             NaN  ...                                 NaN\n\n[1 rows x 34 columns]\n['Commercial: Customer Marketing', 'Commercial: Sales', 'Finance/Internal Audit', 'General Management/PMO', 'HR', 'Health, Safety and Environment', 'Logistics & Customer Service', 'Manufacturing & Engineering', 'Marketing/Communication', 'Other Supporting Functions (General Services/Facility/Assistants)', 'Planning', 'Procurement', 'Product R&D', 'Quality', 'Supply Chain General', 'Global Supply Chain Functions']\nImport completed for Argentina\nAustralia\nCommercial: Customer Marketing\n   Commercial: Customer Marketing  ...  Blue Collars, Hourly, Task Workers\n0                             NaN  ...                                 NaN\n\n[1 rows x 35 columns]\n['Commercial: Customer Marketing', 'Commercial: Sales', 'Finance/Internal Audit', 'General Management/PMO', 'HR', 'Health, Safety and Environment', 'IT', 'Legal', 'Logistics & Customer Service', 'Manufacturing & Engineering', 'Marketing/Communication', 'Other Supporting Functions (General Services/Facility/Assistants)', 'Planning', 'Procurement', 'Quality', 'Supply Chain General', 'Global Supply Chain Functions']\nImport completed for Australia\nAustria\nCommercial: Customer Marketing\n   Commercial: Customer Marketing  ...  Blue Collars, Hourly, Task Workers\n0                             NaN  ...                                 NaN\n\n[1 rows x 26 columns]\n['Commercial: Customer Marketing', 'Commercial: Sales', 'Finance/Internal Audit', 'General Management/PMO', 'Logistics & Customer Service', 'Marketing/Communication', 'Other Supporting Functions (General Services/Facility/Assistants)', 'Global Supply Chain Functions']\nImport completed for Austria\nBelgium\nCommercial: Customer Marketing\n   Commercial: Customer Marketing  ...  Blue Collars, Hourly, Task Workers\n0                             NaN  ...                                 NaN\n\n[1 rows x 26 columns]\n['Commercial: Customer Marketing', 'Commercial: Sales', 'Finance/Internal Audit', 'General Management/PMO', 'IT', 'Logistics & Customer Service', 'Marketing/Communication', 'Global Supply Chain Functions']\nImport completed for Belgium\nBrazil\nCommercial: Customer Marketing\n   Commercial: Customer Marketing  ...  Blue Collars, Hourly, Task Workers\n0                             NaN  ...                                 NaN\n\n[1 rows x 35 columns]\n['Commercial: Customer Marketing', 'Commercial: Sales', 'Finance/Internal Audit', 'General Management/PMO', 'HR', 'Health, Safety and Environment', 'IT', 'Legal', 'Logistics & Customer Service', 'Manufacturing & Engineering', 'Marketing/Communication', 'Other Supporting Functions (General Services/Facility/Assistants)', 'Planning', 'Procurement', 'Quality', 'Supply Chain General', 'Global Supply Chain Functions']\nImport completed for Brazil\nCanada\nCommercial: Customer Marketing\n   Commercial: Customer Marketing  ...  Blue Collars, Hourly, Task Workers\n0                             NaN  ...                                 NaN\n\n[1 rows x 35 columns]\n['Commercial: Customer Marketing', 'Commercial: Sales', 'Finance/Internal Audit', 'General Management/PMO', 'HR', 'Health, Safety and Environment', 'IT', 'Logistics & Customer Service', 'Manufacturing & Engineering', 'Marketing/Communication', 'Other Supporting Functions (General Services/Facility/Assistants)', 'Planning', 'Procurement', 'Product R&D', 'Quality', 'Supply Chain General', 'Global Supply Chain Functions']\nImport completed for Canada\nChina\nCommercial: Sales\n   Commercial: Sales  ...  Blue Collars, Hourly, Task Workers\n0                NaN  ...                                 NaN\n\n[1 rows x 24 columns]\n['Commercial: Sales', 'Finance/Internal Audit', 'Logistics & Customer Service', 'Marketing/Communication', 'Other Supporting Functions (General Services/Facility/Assistants)', 'Global Supply Chain Functions']\nImport completed for China\nFrance\nCommercial: Sales\n   Commercial: Sales  ...  Blue Collars, Hourly, Task Workers\n0                NaN  ...                                 NaN\n\n[1 rows x 34 columns]\n['Commercial: Sales', 'Finance/Internal Audit', 'General Management/PMO', 'HR', 'Health, Safety and Environment', 'IT', 'Legal', 'Logistics & Customer Service', 'Manufacturing & Engineering', 'Other Supporting Functions (General Services/Facility/Assistants)', 'Planning', 'Procurement', 'Product R&D', 'Quality', 'Supply Chain General', 'Global Supply Chain Functions']\nImport completed for France\nGermany\nCommercial: Customer Marketing\n   Commercial: Customer Marketing  ...  Blue Collars, Hourly, Task Workers\n0                             NaN  ...                                 NaN\n\n[1 rows x 28 columns]\n['Commercial: Customer Marketing', 'Commercial: Sales', 'Finance/Internal Audit', 'General Management/PMO', 'HR', 'Logistics & Customer Service', 'Marketing/Communication', 'Other Supporting Functions (General Services/Facility/Assistants)', 'Planning', 'Global Supply Chain Functions']\nImport completed for Germany\nGreece\nFinance/Internal Audit\n   Finance/Internal Audit  ...  Blue Collars, Hourly, Task Workers\n0                     NaN  ...                                 NaN\n\n[1 rows x 24 columns]\n['Finance/Internal Audit', 'Health, Safety and Environment', 'Logistics & Customer Service', 'Manufacturing & Engineering', 'Quality', 'Global Supply Chain Functions']\nImport completed for Greece\nItaly\nCommercial: Customer Marketing\n   Commercial: Customer Marketing  ...  Blue Collars, Hourly, Task Workers\n0                             NaN  ...                                 NaN\n\n[1 rows x 36 columns]\n['Commercial: Customer Marketing', 'Commercial: Sales', 'Finance/Internal Audit', 'General Management/PMO', 'HR', 'Health, Safety and Environment', 'IT', 'Legal', 'Logistics & Customer Service', 'Manufacturing & Engineering', 'Marketing/Communication', 'Other Supporting Functions (General Services/Facility/Assistants)', 'Planning', 'Procurement', 'Product R&D', 'Quality', 'Supply Chain General', 'Global Supply Chain Functions']\nImport completed for Italy\nJamaica\nCommercial: Customer Marketing\n   Commercial: Customer Marketing  ...  Blue Collars, Hourly, Task Workers\n0                             NaN  ...                                 NaN\n\n[1 rows x 36 columns]\n['Commercial: Customer Marketing', 'Commercial: Sales', 'Finance/Internal Audit', 'General Management/PMO', 'HR', 'Health, Safety and Environment', 'IT', 'Legal', 'Logistics & Customer Service', 'Manufacturing & Engineering', 'Marketing/Communication', 'Other Supporting Functions (General Services/Facility/Assistants)', 'Planning', 'Procurement', 'Product R&D', 'Quality', 'Supply Chain General', 'Global Supply Chain Functions']\nImport completed for Jamaica\nMexico\nCommercial: Customer Marketing\n   Commercial: Customer Marketing  ...  Blue Collars, Hourly, Task Workers\n0                             NaN  ...                                 NaN\n\n[1 rows x 36 columns]\n['Commercial: Customer Marketing', 'Commercial: Sales', 'Finance/Internal Audit', 'General Management/PMO', 'HR', 'Health, Safety and Environment', 'IT', 'Legal', 'Logistics & Customer Service', 'Manufacturing & Engineering', 'Marketing/Communication', 'Other Supporting Functions (General Services/Facility/Assistants)', 'Planning', 'Procurement', 'Product R&D', 'Quality', 'Supply Chain General', 'Global Supply Chain Functions']\nImport completed for Mexico\nPeru\nCommercial: Customer Marketing\n   Commercial: Customer Marketing  ...  Blue Collars, Hourly, Task Workers\n0                             NaN  ...                                 NaN\n\n[1 rows x 27 columns]\n['Commercial: Customer Marketing', 'Commercial: Sales', 'Finance/Internal Audit', 'General Management/PMO', 'HR', 'Logistics & Customer Service', 'Marketing/Communication', 'Other Supporting Functions (General Services/Facility/Assistants)', 'Global Supply Chain Functions']\nImport completed for Peru\nRussia\nCommercial: Customer Marketing\n   Commercial: Customer Marketing  ...  Blue Collars, Hourly, Task Workers\n0                             NaN  ...                                 NaN\n\n[1 rows x 34 columns]\n['Commercial: Customer Marketing', 'Commercial: Sales', 'Finance/Internal Audit', 'General Management/PMO', 'HR', 'Health, Safety and Environment', 'IT', 'Legal', 'Logistics & Customer Service', 'Manufacturing & Engineering', 'Marketing/Communication', 'Other Supporting Functions (General Services/Facility/Assistants)', 'Planning', 'Procurement', 'Quality', 'Global Supply Chain Functions']\nImport completed for Russia\nSouth Africa\nCommercial: Customer Marketing\n   Commercial: Customer Marketing  ...  Blue Collars, Hourly, Task Workers\n0                             NaN  ...                                 NaN\n\n[1 rows x 29 columns]\n['Commercial: Customer Marketing', 'Commercial: Sales', 'Finance/Internal Audit', 'General Management/PMO', 'HR', 'IT', 'Logistics & Customer Service', 'Marketing/Communication', 'Other Supporting Functions (General Services/Facility/Assistants)', 'Procurement', 'Global Supply Chain Functions']\nImport completed for South Africa\nSpain\nCommercial: Customer Marketing\n   Commercial: Customer Marketing  ...  Blue Collars, Hourly, Task Workers\n0                             NaN  ...                                 NaN\n\n[1 rows x 29 columns]\n['Commercial: Customer Marketing', 'Commercial: Sales', 'Finance/Internal Audit', 'General Management/PMO', 'HR', 'IT', 'Logistics & Customer Service', 'Marketing/Communication', 'Other Supporting Functions (General Services/Facility/Assistants)', 'Planning', 'Global Supply Chain Functions']\nImport completed for Spain\nSwitzerland\nCommercial: Sales\n   Commercial: Sales  ...  Blue Collars, Hourly, Task Workers\n0                NaN  ...                                 NaN\n\n[1 rows x 25 columns]\n['Commercial: Sales', 'Finance/Internal Audit', 'General Management/PMO', 'HR', 'Logistics & Customer Service', 'Marketing/Communication', 'Global Supply Chain Functions']\nImport completed for Switzerland\nUkraine\nCommercial: Customer Marketing\n   Commercial: Customer Marketing  ...  Blue Collars, Hourly, Task Workers\n0                             NaN  ...                                 NaN\n\n[1 rows x 28 columns]\n['Commercial: Customer Marketing', 'Commercial: Sales', 'Finance/Internal Audit', 'General Management/PMO', 'IT', 'Legal', 'Logistics & Customer Service', 'Marketing/Communication', 'Other Supporting Functions (General Services/Facility/Assistants)', 'Global Supply Chain Functions']\nImport completed for Ukraine\nUnited Kingdom\nCommercial: Customer Marketing\n   Commercial: Customer Marketing  ...  Blue Collars, Hourly, Task Workers\n0                             NaN  ...                                 NaN\n\n[1 rows x 32 columns]\n['Commercial: Customer Marketing', 'Commercial: Sales', 'Finance/Internal Audit', 'General Management/PMO', 'HR', 'IT', 'Legal', 'Logistics & Customer Service', 'Manufacturing & Engineering', 'Marketing/Communication', 'Other Supporting Functions (General Services/Facility/Assistants)', 'Planning', 'Quality', 'Global Supply Chain Functions']\nImport completed for United Kingdom\nUnited States\nCommercial: Customer Marketing\n   Commercial: Customer Marketing  ...  Blue Collars, Hourly, Task Workers\n0                             NaN  ...                                 NaN\n\n[1 rows x 36 columns]\n['Commercial: Customer Marketing', 'Commercial: Sales', 'Finance/Internal Audit', 'General Management/PMO', 'HR', 'Health, Safety and Environment', 'IT', 'Legal', 'Logistics & Customer Service', 'Manufacturing & Engineering', 'Marketing/Communication', 'Other Supporting Functions (General Services/Facility/Assistants)', 'Planning', 'Procurement', 'Product R&D', 'Quality', 'Supply Chain General', 'Global Supply Chain Functions']\nImport completed for United States\n"
     ]
    },
    {
     "output_type": "execute_result",
     "data": {
      "text/html": [
       "<div>\n",
       "<style scoped>\n",
       "    .dataframe tbody tr th:only-of-type {\n",
       "        vertical-align: middle;\n",
       "    }\n",
       "\n",
       "    .dataframe tbody tr th {\n",
       "        vertical-align: top;\n",
       "    }\n",
       "\n",
       "    .dataframe thead th {\n",
       "        text-align: right;\n",
       "    }\n",
       "</style>\n",
       "<table border=\"1\" class=\"dataframe\">\n",
       "  <thead>\n",
       "    <tr style=\"text-align: right;\">\n",
       "      <th>kpi</th>\n",
       "      <th>job_function</th>\n",
       "      <th>gptw_camaraderie</th>\n",
       "      <th>gptw_campari_questions</th>\n",
       "      <th>gptw_credibility</th>\n",
       "      <th>gptw_fairness</th>\n",
       "      <th>gptw_overall</th>\n",
       "      <th>gptw_pride</th>\n",
       "      <th>gptw_respect</th>\n",
       "      <th>gptw_responders</th>\n",
       "      <th>country</th>\n",
       "      <th>year</th>\n",
       "    </tr>\n",
       "  </thead>\n",
       "  <tbody>\n",
       "    <tr>\n",
       "      <th>0</th>\n",
       "      <td>commercial_customer_marketing</td>\n",
       "      <td>93</td>\n",
       "      <td>82</td>\n",
       "      <td>88</td>\n",
       "      <td>82</td>\n",
       "      <td>76</td>\n",
       "      <td>88</td>\n",
       "      <td>83</td>\n",
       "      <td>18</td>\n",
       "      <td>Argentina</td>\n",
       "      <td>2018</td>\n",
       "    </tr>\n",
       "    <tr>\n",
       "      <th>1</th>\n",
       "      <td>commercial_sales</td>\n",
       "      <td>84</td>\n",
       "      <td>77</td>\n",
       "      <td>77</td>\n",
       "      <td>70</td>\n",
       "      <td>75</td>\n",
       "      <td>81</td>\n",
       "      <td>78</td>\n",
       "      <td>20</td>\n",
       "      <td>Argentina</td>\n",
       "      <td>2018</td>\n",
       "    </tr>\n",
       "    <tr>\n",
       "      <th>2</th>\n",
       "      <td>finance_internal_audit</td>\n",
       "      <td>99</td>\n",
       "      <td>91</td>\n",
       "      <td>89</td>\n",
       "      <td>84</td>\n",
       "      <td>100</td>\n",
       "      <td>91</td>\n",
       "      <td>97</td>\n",
       "      <td>10</td>\n",
       "      <td>Argentina</td>\n",
       "      <td>2018</td>\n",
       "    </tr>\n",
       "    <tr>\n",
       "      <th>3</th>\n",
       "      <td>global_supply_chain_functions</td>\n",
       "      <td>89</td>\n",
       "      <td>84</td>\n",
       "      <td>76</td>\n",
       "      <td>71</td>\n",
       "      <td>89</td>\n",
       "      <td>91</td>\n",
       "      <td>79</td>\n",
       "      <td>57</td>\n",
       "      <td>Argentina</td>\n",
       "      <td>2018</td>\n",
       "    </tr>\n",
       "    <tr>\n",
       "      <th>4</th>\n",
       "      <td>logistics_customer_service</td>\n",
       "      <td>81</td>\n",
       "      <td>83</td>\n",
       "      <td>83</td>\n",
       "      <td>71</td>\n",
       "      <td>100</td>\n",
       "      <td>95</td>\n",
       "      <td>81</td>\n",
       "      <td>11</td>\n",
       "      <td>Argentina</td>\n",
       "      <td>2018</td>\n",
       "    </tr>\n",
       "    <tr>\n",
       "      <th>...</th>\n",
       "      <td>...</td>\n",
       "      <td>...</td>\n",
       "      <td>...</td>\n",
       "      <td>...</td>\n",
       "      <td>...</td>\n",
       "      <td>...</td>\n",
       "      <td>...</td>\n",
       "      <td>...</td>\n",
       "      <td>...</td>\n",
       "      <td>...</td>\n",
       "      <td>...</td>\n",
       "    </tr>\n",
       "    <tr>\n",
       "      <th>100</th>\n",
       "      <td>marketing_communication</td>\n",
       "      <td>76</td>\n",
       "      <td>68</td>\n",
       "      <td>68</td>\n",
       "      <td>66</td>\n",
       "      <td>81</td>\n",
       "      <td>77</td>\n",
       "      <td>68</td>\n",
       "      <td>43</td>\n",
       "      <td>United States</td>\n",
       "      <td>2018</td>\n",
       "    </tr>\n",
       "    <tr>\n",
       "      <th>101</th>\n",
       "      <td>other_supporting_functions_general_services_fa...</td>\n",
       "      <td>78</td>\n",
       "      <td>62</td>\n",
       "      <td>60</td>\n",
       "      <td>62</td>\n",
       "      <td>87</td>\n",
       "      <td>73</td>\n",
       "      <td>61</td>\n",
       "      <td>15</td>\n",
       "      <td>United States</td>\n",
       "      <td>2018</td>\n",
       "    </tr>\n",
       "    <tr>\n",
       "      <th>102</th>\n",
       "      <td>overall</td>\n",
       "      <td>71</td>\n",
       "      <td>64</td>\n",
       "      <td>61</td>\n",
       "      <td>65</td>\n",
       "      <td>74</td>\n",
       "      <td>73</td>\n",
       "      <td>62</td>\n",
       "      <td>383</td>\n",
       "      <td>United States</td>\n",
       "      <td>2018</td>\n",
       "    </tr>\n",
       "    <tr>\n",
       "      <th>103</th>\n",
       "      <td>planning</td>\n",
       "      <td>80</td>\n",
       "      <td>60</td>\n",
       "      <td>66</td>\n",
       "      <td>75</td>\n",
       "      <td>50</td>\n",
       "      <td>66</td>\n",
       "      <td>66</td>\n",
       "      <td>12</td>\n",
       "      <td>United States</td>\n",
       "      <td>2018</td>\n",
       "    </tr>\n",
       "    <tr>\n",
       "      <th>104</th>\n",
       "      <td>quality</td>\n",
       "      <td>81</td>\n",
       "      <td>78</td>\n",
       "      <td>76</td>\n",
       "      <td>72</td>\n",
       "      <td>77</td>\n",
       "      <td>80</td>\n",
       "      <td>73</td>\n",
       "      <td>13</td>\n",
       "      <td>United States</td>\n",
       "      <td>2018</td>\n",
       "    </tr>\n",
       "  </tbody>\n",
       "</table>\n",
       "<p>105 rows × 11 columns</p>\n",
       "</div>"
      ],
      "text/plain": [
       "kpi                                       job_function  ...  year\n",
       "0                        commercial_customer_marketing  ...  2018\n",
       "1                                     commercial_sales  ...  2018\n",
       "2                               finance_internal_audit  ...  2018\n",
       "3                        global_supply_chain_functions  ...  2018\n",
       "4                           logistics_customer_service  ...  2018\n",
       "..                                                 ...  ...   ...\n",
       "100                            marketing_communication  ...  2018\n",
       "101  other_supporting_functions_general_services_fa...  ...  2018\n",
       "102                                            overall  ...  2018\n",
       "103                                           planning  ...  2018\n",
       "104                                            quality  ...  2018\n",
       "\n",
       "[105 rows x 11 columns]"
      ]
     },
     "execution_count": 38,
     "metadata": {},
     "output_type": "execute_result"
    }
   ],
   "source": [
    "## 2018\n",
    "path_2018 = f'/Volumes/dev_advanced_analytics_hr/default/input_files/hr_turnover/input/gptw_survey/2018/'\n",
    "file_names_2018 = [f.name for f in dbutils.fs.ls(path_2018) if f.name.endswith(\".xlsx\")]\n",
    "gptw2018 = pd.concat([read_single_file(path_2018, f, \"2018\") for f in file_names_2018], ignore_index=True)\n",
    "gptw2018"
   ]
  },
  {
   "cell_type": "code",
   "execution_count": 0,
   "metadata": {
    "application/vnd.databricks.v1+cell": {
     "cellMetadata": {
      "byteLimit": 2048000,
      "rowLimit": 10000
     },
     "inputWidgets": {},
     "nuid": "00be0802-1ca7-4568-9f53-feccfd0b9804",
     "showTitle": false,
     "tableResultSettingsMap": {},
     "title": ""
    }
   },
   "outputs": [
    {
     "output_type": "execute_result",
     "data": {
      "text/plain": [
       "Italy             15\n",
       "Jamaica           12\n",
       "United States     11\n",
       "Argentina          7\n",
       "Australia          7\n",
       "Brazil             7\n",
       "Russia             6\n",
       "Mexico             6\n",
       "Canada             5\n",
       "United Kingdom     5\n",
       "Germany            4\n",
       "France             4\n",
       "Greece             2\n",
       "Peru               2\n",
       "South Africa       2\n",
       "Spain              2\n",
       "Switzerland        2\n",
       "Ukraine            2\n",
       "Belgium            2\n",
       "Austria            1\n",
       "China              1\n",
       "Name: country, dtype: int64"
      ]
     },
     "execution_count": 39,
     "metadata": {},
     "output_type": "execute_result"
    }
   ],
   "source": [
    "gptw2018['country'].value_counts()"
   ]
  },
  {
   "cell_type": "code",
   "execution_count": 0,
   "metadata": {
    "application/vnd.databricks.v1+cell": {
     "cellMetadata": {
      "byteLimit": 2048000,
      "rowLimit": 10000
     },
     "inputWidgets": {},
     "nuid": "7f507d7f-2237-4f67-9f53-aa6c809bacc0",
     "showTitle": false,
     "tableResultSettingsMap": {},
     "title": ""
    }
   },
   "outputs": [
    {
     "output_type": "stream",
     "name": "stdout",
     "output_type": "stream",
     "text": [
      "Argentina\n['Commercial: Customer Marketing', 'Commercial: Sales', 'Finance/Internal Audit', 'General Management/PMO', 'HR', 'Health, Safety and Environment', 'Logistics & Customer Service', 'Manufacturing & Engineering', 'Marketing/Communication', 'Other Supporting Functions (General Services/Facility/Assistants)', 'Planning', 'Procurement', 'Quality', 'Supply Chain General', 'Global Supply Chain Functions']\nImport completed for Argentina\nAustralia\n"
     ]
    },
    {
     "output_type": "stream",
     "name": "stderr",
     "output_type": "stream",
     "text": [
      "/local_disk0/.ephemeral_nfs/envs/pythonEnv-29e4634b-ac1d-4dd9-9124-23d2d040c94a/lib/python3.11/site-packages/openpyxl/worksheet/_reader.py:329: UserWarning: Conditional Formatting extension is not supported and will be removed\n  warn(msg)\n"
     ]
    },
    {
     "output_type": "stream",
     "name": "stdout",
     "output_type": "stream",
     "text": [
      "['Commercial: Customer Marketing', 'Commercial: Sales', 'Finance/Internal Audit', 'General Management/PMO', 'HR', 'Health, Safety and Environment', 'IT', 'Legal & Business Development', 'Logistics & Customer Service', 'Manufacturing & Engineering', 'Marketing/Communication', 'Other Supporting Functions (General Services/Facility/Assistants)', 'Planning', 'Procurement', 'Quality', 'Supply Chain General', 'Global Supply Chain Functions']\nImport completed for Australia\nAustria\n['Commercial: Customer Marketing', 'Commercial: Sales', 'Finance/Internal Audit', 'General Management/PMO', 'Logistics & Customer Service', 'Marketing/Communication', 'Other Supporting Functions (General Services/Facility/Assistants)', 'Global Supply Chain Functions']\nImport completed for Austria\nBelgium\n"
     ]
    },
    {
     "output_type": "stream",
     "name": "stderr",
     "output_type": "stream",
     "text": [
      "/local_disk0/.ephemeral_nfs/envs/pythonEnv-29e4634b-ac1d-4dd9-9124-23d2d040c94a/lib/python3.11/site-packages/openpyxl/worksheet/_reader.py:329: UserWarning: Conditional Formatting extension is not supported and will be removed\n  warn(msg)\n"
     ]
    },
    {
     "output_type": "stream",
     "name": "stdout",
     "output_type": "stream",
     "text": [
      "['Commercial: Customer Marketing', 'Commercial: Sales', 'Finance/Internal Audit', 'General Management/PMO', 'Logistics & Customer Service', 'Marketing/Communication', 'Global Supply Chain Functions']\nImport completed for Belgium\nBrazil\n['Commercial: Customer Marketing', 'Commercial: Sales', 'Finance/Internal Audit', 'HR', 'Health, Safety and Environment', 'IT', 'Legal & Business Development', 'Logistics & Customer Service', 'Manufacturing & Engineering', 'Marketing/Communication', 'Other Supporting Functions (General Services/Facility/Assistants)', 'Planning', 'Procurement', 'Quality', 'Supply Chain General', 'Blue Collars, Hourly, Task Workers', 'Executive', 'Manager', 'Staff, Professional, White Collars', 'Global Supply Chain Functions']\nImport completed for Brazil\nCanada\n"
     ]
    },
    {
     "output_type": "stream",
     "name": "stderr",
     "output_type": "stream",
     "text": [
      "/local_disk0/.ephemeral_nfs/envs/pythonEnv-29e4634b-ac1d-4dd9-9124-23d2d040c94a/lib/python3.11/site-packages/openpyxl/worksheet/_reader.py:329: UserWarning: Conditional Formatting extension is not supported and will be removed\n  warn(msg)\n"
     ]
    },
    {
     "output_type": "stream",
     "name": "stdout",
     "output_type": "stream",
     "text": [
      "['Commercial: Customer Marketing', 'Commercial: Sales', 'Finance/Internal Audit', 'General Management/PMO', 'HR', 'Health, Safety and Environment', 'Logistics & Customer Service', 'Manufacturing & Engineering', 'Marketing/Communication', 'Other Supporting Functions (General Services/Facility/Assistants)', 'Planning', 'Procurement', 'Product R&D', 'Quality', 'Supply Chain General', 'Global Supply Chain Functions']\nImport completed for Canada\nChina\n"
     ]
    },
    {
     "output_type": "stream",
     "name": "stderr",
     "output_type": "stream",
     "text": [
      "/local_disk0/.ephemeral_nfs/envs/pythonEnv-29e4634b-ac1d-4dd9-9124-23d2d040c94a/lib/python3.11/site-packages/openpyxl/worksheet/_reader.py:329: UserWarning: Conditional Formatting extension is not supported and will be removed\n  warn(msg)\n"
     ]
    },
    {
     "output_type": "stream",
     "name": "stdout",
     "output_type": "stream",
     "text": [
      "['Commercial: Customer Marketing', 'Commercial: Sales', 'Finance/Internal Audit', 'General Management/PMO', 'Logistics & Customer Service', 'Marketing/Communication', 'Other Supporting Functions (General Services/Facility/Assistants)', 'Global Supply Chain Functions']\nImport completed for China\nFrance\n['Commercial: Customer Marketing', 'Commercial: Sales', 'Finance/Internal Audit', 'General Management/PMO', 'HR', 'Health, Safety and Environment', 'IT', 'Logistics & Customer Service', 'Manufacturing & Engineering', 'Marketing/Communication', 'Other Supporting Functions (General Services/Facility/Assistants)', 'Planning', 'Product R&D', 'Quality', 'Supply Chain General', 'Global Supply Chain Functions']\nImport completed for France\nGSM\n[]\nError in processing file GSM_Feedback Report_Global Camparista Survey 2020.xlsx for GSM: index 2 is out of bounds for axis 0 with size 2\nGermany\n['Commercial: Customer Marketing', 'Commercial: Sales', 'Finance/Internal Audit', 'General Management/PMO', 'HR', 'Logistics & Customer Service', 'Marketing/Communication', 'Other Supporting Functions (General Services/Facility/Assistants)', 'Planning', 'Global Supply Chain Functions']\nImport completed for Germany\nGlobal travel retail\n[]\nError in processing file Global travel retail_Feedback Report_Global Camparista Survey 2020.xlsx for Global travel retail: index 2 is out of bounds for axis 0 with size 2\nGreece\n['Commercial: Sales', 'Finance/Internal Audit', 'Health, Safety and Environment', 'Logistics & Customer Service', 'Manufacturing & Engineering', 'Global Supply Chain Functions']\nImport completed for Greece\nHR\nImport not completed for HR\nItaly\n"
     ]
    },
    {
     "output_type": "stream",
     "name": "stderr",
     "output_type": "stream",
     "text": [
      "/local_disk0/.ephemeral_nfs/envs/pythonEnv-29e4634b-ac1d-4dd9-9124-23d2d040c94a/lib/python3.11/site-packages/openpyxl/worksheet/_reader.py:329: UserWarning: Conditional Formatting extension is not supported and will be removed\n  warn(msg)\n"
     ]
    },
    {
     "output_type": "stream",
     "name": "stdout",
     "output_type": "stream",
     "text": [
      "['Commercial: Customer Marketing', 'Commercial: Sales', 'Finance/Internal Audit', 'General Management/PMO', 'HR', 'Health, Safety and Environment', 'IT', 'Legal & Business Development', 'Logistics & Customer Service', 'Manufacturing & Engineering', 'Marketing/Communication', 'Other Supporting Functions (General Services/Facility/Assistants)', 'Planning', 'Procurement', 'Product R&D', 'Public Affairs', 'Quality', 'Supply Chain General', 'Global Supply Chain Functions']\nImport completed for Italy\nJamaica\n['Agriculture', 'Commercial: Customer Marketing', 'Commercial: Sales', 'Finance/Internal Audit', 'General Management/PMO', 'HR', 'Health, Safety and Environment', 'IT', 'Legal & Business Development', 'Logistics & Customer Service', 'Manufacturing & Engineering', 'Marketing/Communication', 'Other Supporting Functions (General Services/Facility/Assistants)', 'Planning', 'Procurement', 'Product R&D', 'Public Affairs', 'Quality', 'Supply Chain General', 'Global Supply Chain Functions']\nImport completed for Jamaica\nJapan\n['Commercial: Customer Marketing', 'Commercial: Sales', 'Finance/Internal Audit', 'General Management/PMO', 'HR', 'Logistics & Customer Service', 'Marketing/Communication', 'Other Supporting Functions (General Services/Facility/Assistants)', 'Global Supply Chain Functions']\nImport completed for Japan\nLegal&BD\nImport not completed for Legal&BD\nMarketing&Commnication\nImport not completed for Marketing&Commnication\nMexico\n['Agriculture', 'Commercial: Customer Marketing', 'Commercial: Sales', 'Finance/Internal Audit', 'General Management/PMO', 'HR', 'Health, Safety and Environment', 'IT', 'Legal & Business Development', 'Logistics & Customer Service', 'Manufacturing & Engineering', 'Marketing/Communication', 'Other Supporting Functions (General Services/Facility/Assistants)', 'Planning', 'Procurement', 'Product R&D', 'Quality', 'Supply Chain General', 'Global Supply Chain Functions']\nImport completed for Mexico\nPeru\n['Commercial: Customer Marketing', 'Commercial: Sales', 'Finance/Internal Audit', 'General Management/PMO', 'HR', 'Logistics & Customer Service', 'Marketing/Communication', 'Other Supporting Functions (General Services/Facility/Assistants)', 'Supply Chain General', 'Executive', 'Manager', 'Staff, Professional, White Collars', 'Global Supply Chain Functions']\nImport completed for Peru\nRussia\n"
     ]
    },
    {
     "output_type": "stream",
     "name": "stderr",
     "output_type": "stream",
     "text": [
      "/local_disk0/.ephemeral_nfs/envs/pythonEnv-29e4634b-ac1d-4dd9-9124-23d2d040c94a/lib/python3.11/site-packages/openpyxl/worksheet/_reader.py:329: UserWarning: Conditional Formatting extension is not supported and will be removed\n  warn(msg)\n"
     ]
    },
    {
     "output_type": "stream",
     "name": "stdout",
     "output_type": "stream",
     "text": [
      "['Commercial: Customer Marketing', 'Commercial: Sales', 'Finance/Internal Audit', 'General Management/PMO', 'HR', 'IT', 'Legal & Business Development', 'Logistics & Customer Service', 'Marketing/Communication', 'Other Supporting Functions (General Services/Facility/Assistants)', 'Planning', 'Procurement', 'Supply Chain General', 'Global Supply Chain Functions']\nImport completed for Russia\nSingapore\n['Commercial: Customer Marketing', 'Commercial: Sales', 'Finance/Internal Audit', 'General Management/PMO', 'HR', 'IT', 'Marketing/Communication', 'Other Supporting Functions (General Services/Facility/Assistants)', 'Planning', 'Executive', 'Manager', 'Staff, Professional, White Collars', 'Global Supply Chain Functions']\nImport completed for Singapore\nSouth East Asia & India\nImport not completed for South East Asia & India\nSpain\n"
     ]
    },
    {
     "output_type": "stream",
     "name": "stderr",
     "output_type": "stream",
     "text": [
      "/local_disk0/.ephemeral_nfs/envs/pythonEnv-29e4634b-ac1d-4dd9-9124-23d2d040c94a/lib/python3.11/site-packages/openpyxl/worksheet/_reader.py:329: UserWarning: Conditional Formatting extension is not supported and will be removed\n  warn(msg)\n"
     ]
    },
    {
     "output_type": "stream",
     "name": "stdout",
     "output_type": "stream",
     "text": [
      "['Commercial: Customer Marketing', 'Commercial: Sales', 'Finance/Internal Audit', 'General Management/PMO', 'HR', 'IT', 'Logistics & Customer Service', 'Marketing/Communication', 'Other Supporting Functions (General Services/Facility/Assistants)', 'Planning', 'Global Supply Chain Functions']\nImport completed for Spain\nSupply Chain Americas\n['Agriculture', 'Commercial: Customer Marketing', 'Commercial: Sales', 'Finance/Internal Audit', 'General Management/PMO', 'HR', 'Health, Safety and Environment', 'IT', 'Legal & Business Development', 'Logistics & Customer Service', 'Manufacturing & Engineering', 'Marketing/Communication', 'Other Supporting Functions (General Services/Facility/Assistants)', 'Planning', 'Procurement', 'Product R&D', 'Public Affairs', 'Quality', 'Supply Chain General', 'Blue Collars, Hourly, Task Workers', 'Executive', 'Manager', 'Staff, Professional, White Collars', 'Global Supply Chain Functions']\nImport completed for Supply Chain Americas\nSupply Chain Asia Pacific\n['Agriculture', 'Commercial: Customer Marketing', 'Commercial: Sales', 'Finance/Internal Audit', 'General Management/PMO', 'HR', 'Health, Safety and Environment', 'IT', 'Legal & Business Development', 'Logistics & Customer Service', 'Manufacturing & Engineering', 'Marketing/Communication', 'Other Supporting Functions (General Services/Facility/Assistants)', 'Planning', 'Procurement', 'Product R&D', 'Public Affairs', 'Quality', 'Supply Chain General', 'Blue Collars, Hourly, Task Workers', 'Executive', 'Manager', 'Staff, Professional, White Collars', 'Global Supply Chain Functions']\nImport completed for Supply Chain Asia Pacific\nSupply Chain Europe\n['Agriculture', 'Commercial: Customer Marketing', 'Commercial: Sales', 'Finance/Internal Audit', 'General Management/PMO', 'HR', 'Health, Safety and Environment', 'IT', 'Legal & Business Development', 'Logistics & Customer Service', 'Manufacturing & Engineering', 'Marketing/Communication', 'Other Supporting Functions (General Services/Facility/Assistants)', 'Planning', 'Procurement', 'Product R&D', 'Public Affairs', 'Quality', 'Supply Chain General', 'Blue Collars, Hourly, Task Workers', 'Executive', 'Manager', 'Staff, Professional, White Collars', 'Global Supply Chain Functions']\nImport completed for Supply Chain Europe\nSwitzerland\n"
     ]
    },
    {
     "output_type": "stream",
     "name": "stderr",
     "output_type": "stream",
     "text": [
      "/local_disk0/.ephemeral_nfs/envs/pythonEnv-29e4634b-ac1d-4dd9-9124-23d2d040c94a/lib/python3.11/site-packages/openpyxl/worksheet/_reader.py:329: UserWarning: Conditional Formatting extension is not supported and will be removed\n  warn(msg)\n"
     ]
    },
    {
     "output_type": "stream",
     "name": "stdout",
     "output_type": "stream",
     "text": [
      "['Commercial: Customer Marketing', 'Commercial: Sales', 'Finance/Internal Audit', 'General Management/PMO', 'HR', 'Logistics & Customer Service', 'Marketing/Communication', 'Global Supply Chain Functions']\nImport completed for Switzerland\nUkraine\n"
     ]
    },
    {
     "output_type": "stream",
     "name": "stderr",
     "output_type": "stream",
     "text": [
      "/local_disk0/.ephemeral_nfs/envs/pythonEnv-29e4634b-ac1d-4dd9-9124-23d2d040c94a/lib/python3.11/site-packages/openpyxl/worksheet/_reader.py:329: UserWarning: Conditional Formatting extension is not supported and will be removed\n  warn(msg)\n"
     ]
    },
    {
     "output_type": "stream",
     "name": "stdout",
     "output_type": "stream",
     "text": [
      "['Commercial: Customer Marketing', 'Commercial: Sales', 'Finance/Internal Audit', 'General Management/PMO', 'Legal & Business Development', 'Logistics & Customer Service', 'Other Supporting Functions (General Services/Facility/Assistants)', 'Supply Chain General', 'Global Supply Chain Functions']\nImport completed for Ukraine\nUnited Kingdom\n"
     ]
    },
    {
     "output_type": "stream",
     "name": "stderr",
     "output_type": "stream",
     "text": [
      "/local_disk0/.ephemeral_nfs/envs/pythonEnv-29e4634b-ac1d-4dd9-9124-23d2d040c94a/lib/python3.11/site-packages/openpyxl/worksheet/_reader.py:329: UserWarning: Conditional Formatting extension is not supported and will be removed\n  warn(msg)\n"
     ]
    },
    {
     "output_type": "stream",
     "name": "stdout",
     "output_type": "stream",
     "text": [
      "['Commercial: Customer Marketing', 'Commercial: Sales', 'Finance/Internal Audit', 'General Management/PMO', 'HR', 'Health, Safety and Environment', 'IT', 'Legal & Business Development', 'Logistics & Customer Service', 'Manufacturing & Engineering', 'Marketing/Communication', 'Other Supporting Functions (General Services/Facility/Assistants)', 'Planning', 'Quality', 'Global Supply Chain Functions']\nImport completed for United Kingdom\nUnited States\n['Commercial: Customer Marketing', 'Commercial: Sales', 'Finance/Internal Audit', 'General Management/PMO', 'HR', 'Health, Safety and Environment', 'IT', 'Legal & Business Development', 'Logistics & Customer Service', 'Manufacturing & Engineering', 'Marketing/Communication', 'Other Supporting Functions (General Services/Facility/Assistants)', 'Planning', 'Procurement', 'Product R&D', 'Public Affairs', 'Quality', 'Supply Chain General', 'Blue Collars, Hourly, Task Workers', 'Executive', 'Manager', 'Staff, Professional, White Collars', 'Global Supply Chain Functions']\nImport completed for United States\n"
     ]
    },
    {
     "output_type": "execute_result",
     "data": {
      "text/html": [
       "<div>\n",
       "<style scoped>\n",
       "    .dataframe tbody tr th:only-of-type {\n",
       "        vertical-align: middle;\n",
       "    }\n",
       "\n",
       "    .dataframe tbody tr th {\n",
       "        vertical-align: top;\n",
       "    }\n",
       "\n",
       "    .dataframe thead th {\n",
       "        text-align: right;\n",
       "    }\n",
       "</style>\n",
       "<table border=\"1\" class=\"dataframe\">\n",
       "  <thead>\n",
       "    <tr style=\"text-align: right;\">\n",
       "      <th>kpi</th>\n",
       "      <th>job_function</th>\n",
       "      <th>gptw_camaraderie</th>\n",
       "      <th>gptw_credibility</th>\n",
       "      <th>gptw_fairness</th>\n",
       "      <th>gptw_overall</th>\n",
       "      <th>gptw_pride</th>\n",
       "      <th>gptw_respect</th>\n",
       "      <th>gptw_responders</th>\n",
       "      <th>country</th>\n",
       "      <th>year</th>\n",
       "    </tr>\n",
       "  </thead>\n",
       "  <tbody>\n",
       "    <tr>\n",
       "      <th>0</th>\n",
       "      <td>commercial_customer_marketing</td>\n",
       "      <td>96</td>\n",
       "      <td>73</td>\n",
       "      <td>70</td>\n",
       "      <td>94</td>\n",
       "      <td>87</td>\n",
       "      <td>79</td>\n",
       "      <td>16</td>\n",
       "      <td>Argentina</td>\n",
       "      <td>2020</td>\n",
       "    </tr>\n",
       "    <tr>\n",
       "      <th>1</th>\n",
       "      <td>commercial_sales</td>\n",
       "      <td>95</td>\n",
       "      <td>90</td>\n",
       "      <td>84</td>\n",
       "      <td>89</td>\n",
       "      <td>94</td>\n",
       "      <td>92</td>\n",
       "      <td>18</td>\n",
       "      <td>Argentina</td>\n",
       "      <td>2020</td>\n",
       "    </tr>\n",
       "    <tr>\n",
       "      <th>2</th>\n",
       "      <td>finance_internal_audit</td>\n",
       "      <td>94</td>\n",
       "      <td>90</td>\n",
       "      <td>78</td>\n",
       "      <td>100</td>\n",
       "      <td>89</td>\n",
       "      <td>90</td>\n",
       "      <td>12</td>\n",
       "      <td>Argentina</td>\n",
       "      <td>2020</td>\n",
       "    </tr>\n",
       "    <tr>\n",
       "      <th>3</th>\n",
       "      <td>global_supply_chain_functions</td>\n",
       "      <td>80</td>\n",
       "      <td>69</td>\n",
       "      <td>62</td>\n",
       "      <td>69</td>\n",
       "      <td>78</td>\n",
       "      <td>68</td>\n",
       "      <td>61</td>\n",
       "      <td>Argentina</td>\n",
       "      <td>2020</td>\n",
       "    </tr>\n",
       "    <tr>\n",
       "      <th>4</th>\n",
       "      <td>logistics_customer_service</td>\n",
       "      <td>83</td>\n",
       "      <td>66</td>\n",
       "      <td>59</td>\n",
       "      <td>73</td>\n",
       "      <td>86</td>\n",
       "      <td>68</td>\n",
       "      <td>15</td>\n",
       "      <td>Argentina</td>\n",
       "      <td>2020</td>\n",
       "    </tr>\n",
       "    <tr>\n",
       "      <th>...</th>\n",
       "      <td>...</td>\n",
       "      <td>...</td>\n",
       "      <td>...</td>\n",
       "      <td>...</td>\n",
       "      <td>...</td>\n",
       "      <td>...</td>\n",
       "      <td>...</td>\n",
       "      <td>...</td>\n",
       "      <td>...</td>\n",
       "      <td>...</td>\n",
       "    </tr>\n",
       "    <tr>\n",
       "      <th>150</th>\n",
       "      <td>other_supporting_functions_general_services_fa...</td>\n",
       "      <td>62</td>\n",
       "      <td>55</td>\n",
       "      <td>53</td>\n",
       "      <td>65</td>\n",
       "      <td>69</td>\n",
       "      <td>52</td>\n",
       "      <td>17</td>\n",
       "      <td>United States</td>\n",
       "      <td>2020</td>\n",
       "    </tr>\n",
       "    <tr>\n",
       "      <th>151</th>\n",
       "      <td>overall</td>\n",
       "      <td>74</td>\n",
       "      <td>66</td>\n",
       "      <td>66</td>\n",
       "      <td>79</td>\n",
       "      <td>76</td>\n",
       "      <td>66</td>\n",
       "      <td>390</td>\n",
       "      <td>United States</td>\n",
       "      <td>2020</td>\n",
       "    </tr>\n",
       "    <tr>\n",
       "      <th>152</th>\n",
       "      <td>planning</td>\n",
       "      <td>63</td>\n",
       "      <td>64</td>\n",
       "      <td>70</td>\n",
       "      <td>64</td>\n",
       "      <td>55</td>\n",
       "      <td>66</td>\n",
       "      <td>11</td>\n",
       "      <td>United States</td>\n",
       "      <td>2020</td>\n",
       "    </tr>\n",
       "    <tr>\n",
       "      <th>153</th>\n",
       "      <td>quality</td>\n",
       "      <td>75</td>\n",
       "      <td>72</td>\n",
       "      <td>64</td>\n",
       "      <td>92</td>\n",
       "      <td>73</td>\n",
       "      <td>72</td>\n",
       "      <td>12</td>\n",
       "      <td>United States</td>\n",
       "      <td>2020</td>\n",
       "    </tr>\n",
       "    <tr>\n",
       "      <th>154</th>\n",
       "      <td>staff_professional_white_collars</td>\n",
       "      <td>79</td>\n",
       "      <td>74</td>\n",
       "      <td>71</td>\n",
       "      <td>86</td>\n",
       "      <td>80</td>\n",
       "      <td>73</td>\n",
       "      <td>226</td>\n",
       "      <td>United States</td>\n",
       "      <td>2020</td>\n",
       "    </tr>\n",
       "  </tbody>\n",
       "</table>\n",
       "<p>155 rows × 10 columns</p>\n",
       "</div>"
      ],
      "text/plain": [
       "kpi                                       job_function  ...  year\n",
       "0                        commercial_customer_marketing  ...  2020\n",
       "1                                     commercial_sales  ...  2020\n",
       "2                               finance_internal_audit  ...  2020\n",
       "3                        global_supply_chain_functions  ...  2020\n",
       "4                           logistics_customer_service  ...  2020\n",
       "..                                                 ...  ...   ...\n",
       "150  other_supporting_functions_general_services_fa...  ...  2020\n",
       "151                                            overall  ...  2020\n",
       "152                                           planning  ...  2020\n",
       "153                                            quality  ...  2020\n",
       "154                   staff_professional_white_collars  ...  2020\n",
       "\n",
       "[155 rows x 10 columns]"
      ]
     },
     "execution_count": 40,
     "metadata": {},
     "output_type": "execute_result"
    }
   ],
   "source": [
    "## 2020\n",
    "path_2020 = f\"/Volumes/dev_advanced_analytics_hr/default/input_files/hr_turnover/input/gptw_survey/2020/\"\n",
    "file_names_2020 = [f.name for f in dbutils.fs.ls(path_2020) if f.name.endswith(\".xlsx\")]\n",
    "gptw2020 = pd.concat([read_single_file(path_2020, f, \"2020\") for f in file_names_2020], ignore_index=True)\n",
    "gptw2020"
   ]
  },
  {
   "cell_type": "markdown",
   "metadata": {
    "application/vnd.databricks.v1+cell": {
     "cellMetadata": {},
     "inputWidgets": {},
     "nuid": "85d138d8-de31-41ea-bad0-5622db656454",
     "showTitle": false,
     "tableResultSettingsMap": {},
     "title": ""
    }
   },
   "source": [
    "Asia data is managed separately:"
   ]
  },
  {
   "cell_type": "code",
   "execution_count": 0,
   "metadata": {
    "application/vnd.databricks.v1+cell": {
     "cellMetadata": {
      "byteLimit": 2048000,
      "rowLimit": 10000
     },
     "inputWidgets": {},
     "nuid": "f40ddeee-aef5-4a82-972c-4150b4a733c0",
     "showTitle": false,
     "tableResultSettingsMap": {},
     "title": ""
    }
   },
   "outputs": [
    {
     "output_type": "execute_result",
     "data": {
      "text/html": [
       "<div>\n",
       "<style scoped>\n",
       "    .dataframe tbody tr th:only-of-type {\n",
       "        vertical-align: middle;\n",
       "    }\n",
       "\n",
       "    .dataframe tbody tr th {\n",
       "        vertical-align: top;\n",
       "    }\n",
       "\n",
       "    .dataframe thead th {\n",
       "        text-align: right;\n",
       "    }\n",
       "</style>\n",
       "<table border=\"1\" class=\"dataframe\">\n",
       "  <thead>\n",
       "    <tr style=\"text-align: right;\">\n",
       "      <th></th>\n",
       "      <th>Unnamed: 0</th>\n",
       "      <th>Unnamed: 1</th>\n",
       "      <th>Unnamed: 2</th>\n",
       "      <th>Aggregated Asia</th>\n",
       "      <th>Aggregated Asia.1</th>\n",
       "      <th>Campari Group 2018</th>\n",
       "      <th>Difference</th>\n",
       "    </tr>\n",
       "  </thead>\n",
       "  <tbody>\n",
       "    <tr>\n",
       "      <th>0</th>\n",
       "      <td>NaN</td>\n",
       "      <td>NaN</td>\n",
       "      <td>NaN</td>\n",
       "      <td>Results vs External Benchmarks</td>\n",
       "      <td>NaN</td>\n",
       "      <td>NaN</td>\n",
       "      <td>NaN</td>\n",
       "    </tr>\n",
       "    <tr>\n",
       "      <th>1</th>\n",
       "      <td>NaN</td>\n",
       "      <td>NaN</td>\n",
       "      <td>NaN</td>\n",
       "      <td>Overall Response Rate: 100%</td>\n",
       "      <td>NaN</td>\n",
       "      <td>NaN</td>\n",
       "      <td>NaN</td>\n",
       "    </tr>\n",
       "    <tr>\n",
       "      <th>2</th>\n",
       "      <td>NaN</td>\n",
       "      <td>NaN</td>\n",
       "      <td>Number Of Responses</td>\n",
       "      <td>NaN</td>\n",
       "      <td>14.000000</td>\n",
       "      <td>2870.000000</td>\n",
       "      <td>-</td>\n",
       "    </tr>\n",
       "    <tr>\n",
       "      <th>3</th>\n",
       "      <td>Credibility</td>\n",
       "      <td>1</td>\n",
       "      <td>Management keeps me informed about important i...</td>\n",
       "      <td>NaN</td>\n",
       "      <td>0.785714</td>\n",
       "      <td>0.580182</td>\n",
       "      <td>0.205532</td>\n",
       "    </tr>\n",
       "    <tr>\n",
       "      <th>4</th>\n",
       "      <td>NaN</td>\n",
       "      <td>2</td>\n",
       "      <td>Management makes its expectations clear.</td>\n",
       "      <td>NaN</td>\n",
       "      <td>1.000000</td>\n",
       "      <td>0.622727</td>\n",
       "      <td>0.377273</td>\n",
       "    </tr>\n",
       "    <tr>\n",
       "      <th>...</th>\n",
       "      <td>...</td>\n",
       "      <td>...</td>\n",
       "      <td>...</td>\n",
       "      <td>...</td>\n",
       "      <td>...</td>\n",
       "      <td>...</td>\n",
       "      <td>...</td>\n",
       "    </tr>\n",
       "    <tr>\n",
       "      <th>85</th>\n",
       "      <td>NaN</td>\n",
       "      <td>NaN</td>\n",
       "      <td>NaN</td>\n",
       "      <td>NaN</td>\n",
       "      <td>NaN</td>\n",
       "      <td>NaN</td>\n",
       "      <td>NaN</td>\n",
       "    </tr>\n",
       "    <tr>\n",
       "      <th>86</th>\n",
       "      <td>NaN</td>\n",
       "      <td>NaN</td>\n",
       "      <td>NaN</td>\n",
       "      <td>NaN</td>\n",
       "      <td>NaN</td>\n",
       "      <td>NaN</td>\n",
       "      <td>NaN</td>\n",
       "    </tr>\n",
       "    <tr>\n",
       "      <th>87</th>\n",
       "      <td>NaN</td>\n",
       "      <td>NaN</td>\n",
       "      <td>NaN</td>\n",
       "      <td>NaN</td>\n",
       "      <td>NaN</td>\n",
       "      <td>NaN</td>\n",
       "      <td>NaN</td>\n",
       "    </tr>\n",
       "    <tr>\n",
       "      <th>88</th>\n",
       "      <td>NaN</td>\n",
       "      <td>NaN</td>\n",
       "      <td>NaN</td>\n",
       "      <td>NaN</td>\n",
       "      <td>NaN</td>\n",
       "      <td>NaN</td>\n",
       "      <td>NaN</td>\n",
       "    </tr>\n",
       "    <tr>\n",
       "      <th>89</th>\n",
       "      <td>This material is comprised of Intellectual Pro...</td>\n",
       "      <td>NaN</td>\n",
       "      <td>NaN</td>\n",
       "      <td>NaN</td>\n",
       "      <td>NaN</td>\n",
       "      <td>NaN</td>\n",
       "      <td>NaN</td>\n",
       "    </tr>\n",
       "  </tbody>\n",
       "</table>\n",
       "<p>90 rows × 7 columns</p>\n",
       "</div>"
      ],
      "text/plain": [
       "                                           Unnamed: 0  ... Difference\n",
       "0                                                 NaN  ...        NaN\n",
       "1                                                 NaN  ...        NaN\n",
       "2                                                 NaN  ...          -\n",
       "3                                         Credibility  ...   0.205532\n",
       "4                                                 NaN  ...   0.377273\n",
       "..                                                ...  ...        ...\n",
       "85                                                NaN  ...        NaN\n",
       "86                                                NaN  ...        NaN\n",
       "87                                                NaN  ...        NaN\n",
       "88                                                NaN  ...        NaN\n",
       "89  This material is comprised of Intellectual Pro...  ...        NaN\n",
       "\n",
       "[90 rows x 7 columns]"
      ]
     },
     "execution_count": 41,
     "metadata": {},
     "output_type": "execute_result"
    }
   ],
   "source": [
    "asia2018 = pd.read_excel(f\"{path_2018}{file_names_2018[0]}\", sheet_name= 2, skiprows = 1)\n",
    "asia2018"
   ]
  },
  {
   "cell_type": "code",
   "execution_count": 0,
   "metadata": {
    "application/vnd.databricks.v1+cell": {
     "cellMetadata": {
      "byteLimit": 2048000,
      "rowLimit": 10000
     },
     "inputWidgets": {},
     "nuid": "229e0ea9-3793-450d-8c1d-b0a8698739a1",
     "showTitle": false,
     "tableResultSettingsMap": {},
     "title": ""
    }
   },
   "outputs": [
    {
     "output_type": "execute_result",
     "data": {
      "text/plain": [
       "'Aggregated Asia'"
      ]
     },
     "execution_count": 42,
     "metadata": {},
     "output_type": "execute_result"
    }
   ],
   "source": [
    "country = re.match(r\"[^_]+\", file_names_2018[0]).group(0)\n",
    "country"
   ]
  },
  {
   "cell_type": "code",
   "execution_count": 0,
   "metadata": {
    "application/vnd.databricks.v1+cell": {
     "cellMetadata": {
      "byteLimit": 2048000,
      "rowLimit": 10000
     },
     "inputWidgets": {},
     "nuid": "679b72bf-00f6-4ef0-8028-52c79ef4c35c",
     "showTitle": false,
     "tableResultSettingsMap": {},
     "title": ""
    }
   },
   "outputs": [],
   "source": [
    "overall_col = f\"{country}.1\"\n",
    "column_mapping = {\n",
    "    asia2018.columns[0]: \"kpi\",  \n",
    "    asia2018.columns[1]: \"statement_idx\", \n",
    "   asia2018.columns[2]: \"statement\"  # Usare la variabile già definita statement_col\n",
    "}\n",
    "\n",
    "# Rinomina le colonne\n",
    "asia2018[\"overall\"] = asia2018[overall_col]\n",
    "asia2018 = asia2018.rename(columns=column_mapping)"
   ]
  },
  {
   "cell_type": "code",
   "execution_count": 0,
   "metadata": {
    "application/vnd.databricks.v1+cell": {
     "cellMetadata": {
      "byteLimit": 2048000,
      "rowLimit": 10000
     },
     "inputWidgets": {},
     "nuid": "a5eef5a8-e817-46ae-a8cb-d91598f169cf",
     "showTitle": false,
     "tableResultSettingsMap": {},
     "title": ""
    }
   },
   "outputs": [
    {
     "output_type": "execute_result",
     "data": {
      "text/html": [
       "<div>\n",
       "<style scoped>\n",
       "    .dataframe tbody tr th:only-of-type {\n",
       "        vertical-align: middle;\n",
       "    }\n",
       "\n",
       "    .dataframe tbody tr th {\n",
       "        vertical-align: top;\n",
       "    }\n",
       "\n",
       "    .dataframe thead th {\n",
       "        text-align: right;\n",
       "    }\n",
       "</style>\n",
       "<table border=\"1\" class=\"dataframe\">\n",
       "  <thead>\n",
       "    <tr style=\"text-align: right;\">\n",
       "      <th></th>\n",
       "      <th>kpi</th>\n",
       "      <th>statement_idx</th>\n",
       "      <th>statement</th>\n",
       "      <th>overall</th>\n",
       "    </tr>\n",
       "  </thead>\n",
       "  <tbody>\n",
       "    <tr>\n",
       "      <th>2</th>\n",
       "      <td>Credibility</td>\n",
       "      <td>NaN</td>\n",
       "      <td>Number Of Responses</td>\n",
       "      <td>14.000000</td>\n",
       "    </tr>\n",
       "    <tr>\n",
       "      <th>3</th>\n",
       "      <td>Credibility</td>\n",
       "      <td>1</td>\n",
       "      <td>Management keeps me informed about important i...</td>\n",
       "      <td>0.785714</td>\n",
       "    </tr>\n",
       "    <tr>\n",
       "      <th>4</th>\n",
       "      <td>Credibility</td>\n",
       "      <td>2</td>\n",
       "      <td>Management makes its expectations clear.</td>\n",
       "      <td>1.000000</td>\n",
       "    </tr>\n",
       "    <tr>\n",
       "      <th>5</th>\n",
       "      <td>Credibility</td>\n",
       "      <td>3</td>\n",
       "      <td>I can ask management any reasonable question a...</td>\n",
       "      <td>0.785714</td>\n",
       "    </tr>\n",
       "    <tr>\n",
       "      <th>6</th>\n",
       "      <td>Credibility</td>\n",
       "      <td>4</td>\n",
       "      <td>Management is approachable, easy to talk with.</td>\n",
       "      <td>0.714286</td>\n",
       "    </tr>\n",
       "    <tr>\n",
       "      <th>...</th>\n",
       "      <td>...</td>\n",
       "      <td>...</td>\n",
       "      <td>...</td>\n",
       "      <td>...</td>\n",
       "    </tr>\n",
       "    <tr>\n",
       "      <th>81</th>\n",
       "      <td>Campari Questions</td>\n",
       "      <td>72</td>\n",
       "      <td>People around me are honest and ethical in the...</td>\n",
       "      <td>0.928571</td>\n",
       "    </tr>\n",
       "    <tr>\n",
       "      <th>82</th>\n",
       "      <td>Campari Questions</td>\n",
       "      <td>73</td>\n",
       "      <td>Concrete improvement plans have been implement...</td>\n",
       "      <td>0.461538</td>\n",
       "    </tr>\n",
       "    <tr>\n",
       "      <th>83</th>\n",
       "      <td>Campari Questions</td>\n",
       "      <td>74</td>\n",
       "      <td>Campari Group is investing in new tools/system...</td>\n",
       "      <td>0.500000</td>\n",
       "    </tr>\n",
       "    <tr>\n",
       "      <th>84</th>\n",
       "      <td>Campari Questions</td>\n",
       "      <td>Average</td>\n",
       "      <td>NaN</td>\n",
       "      <td>0.736950</td>\n",
       "    </tr>\n",
       "    <tr>\n",
       "      <th>89</th>\n",
       "      <td>This material is comprised of Intellectual Pro...</td>\n",
       "      <td>NaN</td>\n",
       "      <td>NaN</td>\n",
       "      <td>NaN</td>\n",
       "    </tr>\n",
       "  </tbody>\n",
       "</table>\n",
       "<p>83 rows × 4 columns</p>\n",
       "</div>"
      ],
      "text/plain": [
       "                                                  kpi  ...    overall\n",
       "2                                         Credibility  ...  14.000000\n",
       "3                                         Credibility  ...   0.785714\n",
       "4                                         Credibility  ...   1.000000\n",
       "5                                         Credibility  ...   0.785714\n",
       "6                                         Credibility  ...   0.714286\n",
       "..                                                ...  ...        ...\n",
       "81                                  Campari Questions  ...   0.928571\n",
       "82                                  Campari Questions  ...   0.461538\n",
       "83                                  Campari Questions  ...   0.500000\n",
       "84                                  Campari Questions  ...   0.736950\n",
       "89  This material is comprised of Intellectual Pro...  ...        NaN\n",
       "\n",
       "[83 rows x 4 columns]"
      ]
     },
     "execution_count": 44,
     "metadata": {},
     "output_type": "execute_result"
    }
   ],
   "source": [
    "asia2018 = asia2018.iloc[:, [0, 1, 2] + [asia2018.columns.get_loc(\"overall\")]]\n",
    "asia2018 = asia2018.dropna(subset=[\"kpi\", \"statement_idx\", \"overall\"], how=\"all\")\n",
    "asia2018[\"kpi\"] = asia2018[\"kpi\"].fillna(method=\"ffill\").fillna(method=\"bfill\")\n",
    "asia2018\n"
   ]
  },
  {
   "cell_type": "code",
   "execution_count": 0,
   "metadata": {
    "application/vnd.databricks.v1+cell": {
     "cellMetadata": {
      "byteLimit": 2048000,
      "rowLimit": 10000
     },
     "inputWidgets": {},
     "nuid": "30253fa4-076d-4ae1-92a8-b2a83d6697fb",
     "showTitle": false,
     "tableResultSettingsMap": {},
     "title": ""
    }
   },
   "outputs": [],
   "source": [
    "data = asia2018[[\"kpi\"] + [\"overall\"]]"
   ]
  },
  {
   "cell_type": "code",
   "execution_count": 0,
   "metadata": {
    "application/vnd.databricks.v1+cell": {
     "cellMetadata": {
      "byteLimit": 2048000,
      "rowLimit": 10000
     },
     "inputWidgets": {},
     "nuid": "c35d6d9f-5edd-4763-a888-b6563f7d72d6",
     "showTitle": false,
     "tableResultSettingsMap": {},
     "title": ""
    }
   },
   "outputs": [],
   "source": [
    "kpi_names = [\"Credibility\", \"Respect\", \"Fairness\", \"Pride\", \"Camaraderie\", \"Overall\", \"Campari Questions\"]\n",
    "overall_col = f\"{country}.1\"\n",
    "nresp_col = \"Number Of Responses\"\n",
    "overall_val = \"Average\"\n",
    "overall_col2search = \"statement_idx\"\n",
    "statement_gptw_overall = \"Taking everything into account, I would say this is a great place to work.\""
   ]
  },
  {
   "cell_type": "code",
   "execution_count": 0,
   "metadata": {
    "application/vnd.databricks.v1+cell": {
     "cellMetadata": {
      "byteLimit": 2048000,
      "rowLimit": 10000
     },
     "inputWidgets": {},
     "nuid": "4daabd1f-0b3d-440b-84e9-842c8dd9255a",
     "showTitle": false,
     "tableResultSettingsMap": {},
     "title": ""
    }
   },
   "outputs": [],
   "source": [
    "asia2018 = asia2018[\n",
    "    (asia2018[\"kpi\"].isin(kpi_names)) &\n",
    "    ((asia2018[overall_col2search] == overall_val) if isinstance(overall_val, str) else data[overall_col2search].isin(overall_val)) |\n",
    "    (asia2018[\"statement\"] == statement_gptw_overall) |\n",
    "    (asia2018[\"statement\"] == nresp_col)\n",
    "]"
   ]
  },
  {
   "cell_type": "code",
   "execution_count": 0,
   "metadata": {
    "application/vnd.databricks.v1+cell": {
     "cellMetadata": {
      "byteLimit": 2048000,
      "rowLimit": 10000
     },
     "inputWidgets": {},
     "nuid": "35f24b57-a7bf-410e-b971-5f6e976b50c2",
     "showTitle": false,
     "tableResultSettingsMap": {},
     "title": ""
    }
   },
   "outputs": [
    {
     "output_type": "execute_result",
     "data": {
      "text/html": [
       "<div>\n",
       "<style scoped>\n",
       "    .dataframe tbody tr th:only-of-type {\n",
       "        vertical-align: middle;\n",
       "    }\n",
       "\n",
       "    .dataframe tbody tr th {\n",
       "        vertical-align: top;\n",
       "    }\n",
       "\n",
       "    .dataframe thead th {\n",
       "        text-align: right;\n",
       "    }\n",
       "</style>\n",
       "<table border=\"1\" class=\"dataframe\">\n",
       "  <thead>\n",
       "    <tr style=\"text-align: right;\">\n",
       "      <th></th>\n",
       "      <th>kpi</th>\n",
       "      <th>statement_idx</th>\n",
       "      <th>statement</th>\n",
       "      <th>overall</th>\n",
       "    </tr>\n",
       "  </thead>\n",
       "  <tbody>\n",
       "    <tr>\n",
       "      <th>2</th>\n",
       "      <td>Responders</td>\n",
       "      <td>NaN</td>\n",
       "      <td>Number Of Responses</td>\n",
       "      <td>14.000000</td>\n",
       "    </tr>\n",
       "    <tr>\n",
       "      <th>17</th>\n",
       "      <td>Credibility</td>\n",
       "      <td>Average</td>\n",
       "      <td>NaN</td>\n",
       "      <td>0.882653</td>\n",
       "    </tr>\n",
       "    <tr>\n",
       "      <th>31</th>\n",
       "      <td>Respect</td>\n",
       "      <td>Average</td>\n",
       "      <td>NaN</td>\n",
       "      <td>0.730769</td>\n",
       "    </tr>\n",
       "    <tr>\n",
       "      <th>44</th>\n",
       "      <td>Fairness</td>\n",
       "      <td>Average</td>\n",
       "      <td>NaN</td>\n",
       "      <td>0.851191</td>\n",
       "    </tr>\n",
       "    <tr>\n",
       "      <th>53</th>\n",
       "      <td>Pride</td>\n",
       "      <td>Average</td>\n",
       "      <td>NaN</td>\n",
       "      <td>0.848214</td>\n",
       "    </tr>\n",
       "    <tr>\n",
       "      <th>64</th>\n",
       "      <td>Camaraderie</td>\n",
       "      <td>Average</td>\n",
       "      <td>NaN</td>\n",
       "      <td>0.814286</td>\n",
       "    </tr>\n",
       "    <tr>\n",
       "      <th>65</th>\n",
       "      <td>Overall</td>\n",
       "      <td>58</td>\n",
       "      <td>Taking everything into account, I would say th...</td>\n",
       "      <td>0.857143</td>\n",
       "    </tr>\n",
       "    <tr>\n",
       "      <th>84</th>\n",
       "      <td>Campari Questions</td>\n",
       "      <td>Average</td>\n",
       "      <td>NaN</td>\n",
       "      <td>0.736950</td>\n",
       "    </tr>\n",
       "  </tbody>\n",
       "</table>\n",
       "</div>"
      ],
      "text/plain": [
       "                  kpi  ...    overall\n",
       "2          Responders  ...  14.000000\n",
       "17        Credibility  ...   0.882653\n",
       "31            Respect  ...   0.730769\n",
       "44           Fairness  ...   0.851191\n",
       "53              Pride  ...   0.848214\n",
       "64        Camaraderie  ...   0.814286\n",
       "65            Overall  ...   0.857143\n",
       "84  Campari Questions  ...   0.736950\n",
       "\n",
       "[8 rows x 4 columns]"
      ]
     },
     "execution_count": 48,
     "metadata": {},
     "output_type": "execute_result"
    }
   ],
   "source": [
    "asia2018.loc[asia2018[\"statement\"] == nresp_col, \"kpi\"] = \"Responders\"\n",
    "asia2018.loc[asia2018[\"statement\"] == statement_gptw_overall, \"kpi\"] = \"Overall\"\n",
    "asia2018"
   ]
  },
  {
   "cell_type": "code",
   "execution_count": 0,
   "metadata": {
    "application/vnd.databricks.v1+cell": {
     "cellMetadata": {
      "byteLimit": 2048000,
      "rowLimit": 10000
     },
     "inputWidgets": {},
     "nuid": "bf702597-6d5e-4f48-87bc-f872a076c04b",
     "showTitle": false,
     "tableResultSettingsMap": {},
     "title": ""
    }
   },
   "outputs": [
    {
     "output_type": "execute_result",
     "data": {
      "text/html": [
       "<div>\n",
       "<style scoped>\n",
       "    .dataframe tbody tr th:only-of-type {\n",
       "        vertical-align: middle;\n",
       "    }\n",
       "\n",
       "    .dataframe tbody tr th {\n",
       "        vertical-align: top;\n",
       "    }\n",
       "\n",
       "    .dataframe thead th {\n",
       "        text-align: right;\n",
       "    }\n",
       "</style>\n",
       "<table border=\"1\" class=\"dataframe\">\n",
       "  <thead>\n",
       "    <tr style=\"text-align: right;\">\n",
       "      <th></th>\n",
       "      <th>kpi</th>\n",
       "      <th>job_function</th>\n",
       "      <th>score</th>\n",
       "    </tr>\n",
       "  </thead>\n",
       "  <tbody>\n",
       "    <tr>\n",
       "      <th>0</th>\n",
       "      <td>Responders</td>\n",
       "      <td>overall</td>\n",
       "      <td>14.000000</td>\n",
       "    </tr>\n",
       "    <tr>\n",
       "      <th>1</th>\n",
       "      <td>Credibility</td>\n",
       "      <td>overall</td>\n",
       "      <td>0.882653</td>\n",
       "    </tr>\n",
       "    <tr>\n",
       "      <th>2</th>\n",
       "      <td>Respect</td>\n",
       "      <td>overall</td>\n",
       "      <td>0.730769</td>\n",
       "    </tr>\n",
       "    <tr>\n",
       "      <th>3</th>\n",
       "      <td>Fairness</td>\n",
       "      <td>overall</td>\n",
       "      <td>0.851191</td>\n",
       "    </tr>\n",
       "    <tr>\n",
       "      <th>4</th>\n",
       "      <td>Pride</td>\n",
       "      <td>overall</td>\n",
       "      <td>0.848214</td>\n",
       "    </tr>\n",
       "    <tr>\n",
       "      <th>5</th>\n",
       "      <td>Camaraderie</td>\n",
       "      <td>overall</td>\n",
       "      <td>0.814286</td>\n",
       "    </tr>\n",
       "    <tr>\n",
       "      <th>6</th>\n",
       "      <td>Overall</td>\n",
       "      <td>overall</td>\n",
       "      <td>0.857143</td>\n",
       "    </tr>\n",
       "    <tr>\n",
       "      <th>7</th>\n",
       "      <td>Campari Questions</td>\n",
       "      <td>overall</td>\n",
       "      <td>0.736950</td>\n",
       "    </tr>\n",
       "  </tbody>\n",
       "</table>\n",
       "</div>"
      ],
      "text/plain": [
       "                 kpi job_function      score\n",
       "0         Responders      overall  14.000000\n",
       "1        Credibility      overall   0.882653\n",
       "2            Respect      overall   0.730769\n",
       "3           Fairness      overall   0.851191\n",
       "4              Pride      overall   0.848214\n",
       "5        Camaraderie      overall   0.814286\n",
       "6            Overall      overall   0.857143\n",
       "7  Campari Questions      overall   0.736950"
      ]
     },
     "execution_count": 49,
     "metadata": {},
     "output_type": "execute_result"
    }
   ],
   "source": [
    "data_long = asia2018.melt(id_vars=[\"kpi\"], value_vars=['overall'], var_name=\"job_function\", value_name=\"score\")\n",
    "data_long"
   ]
  },
  {
   "cell_type": "code",
   "execution_count": 0,
   "metadata": {
    "application/vnd.databricks.v1+cell": {
     "cellMetadata": {
      "byteLimit": 2048000,
      "rowLimit": 10000
     },
     "inputWidgets": {},
     "nuid": "e27e9f38-cc08-49d2-b8c3-bda8977aa8be",
     "showTitle": false,
     "tableResultSettingsMap": {},
     "title": ""
    }
   },
   "outputs": [],
   "source": [
    "data_long['score'] = np.where(data_long['kpi'] != 'Responders', np.round(data_long['score'] * 100), data_long['score'])\n",
    "\n",
    "data_long['score'] = data_long['score'].apply(lambda x: int(x) if pd.notna(x) else pd.NA)"
   ]
  },
  {
   "cell_type": "code",
   "execution_count": 0,
   "metadata": {
    "application/vnd.databricks.v1+cell": {
     "cellMetadata": {
      "byteLimit": 2048000,
      "rowLimit": 10000
     },
     "inputWidgets": {},
     "nuid": "a7ab6b67-1403-44d8-9d5d-2ead763cdc87",
     "showTitle": false,
     "tableResultSettingsMap": {},
     "title": ""
    }
   },
   "outputs": [],
   "source": [
    "data = data_long.pivot(index=[\"job_function\"], columns=\"kpi\", values=\"score\").add_prefix(\"gptw_\").reset_index()\n",
    "\n",
    "data[\"country\"] = country\n",
    "data[\"year\"] = 2018"
   ]
  },
  {
   "cell_type": "code",
   "execution_count": 0,
   "metadata": {
    "application/vnd.databricks.v1+cell": {
     "cellMetadata": {
      "byteLimit": 2048000,
      "rowLimit": 10000
     },
     "inputWidgets": {},
     "nuid": "14c09af0-c341-4c57-886d-8430a59ccae7",
     "showTitle": false,
     "tableResultSettingsMap": {},
     "title": ""
    }
   },
   "outputs": [],
   "source": [
    "data.columns = data.columns.to_series().apply(simplify_string)"
   ]
  },
  {
   "cell_type": "code",
   "execution_count": 0,
   "metadata": {
    "application/vnd.databricks.v1+cell": {
     "cellMetadata": {
      "byteLimit": 2048000,
      "rowLimit": 10000
     },
     "inputWidgets": {},
     "nuid": "69b07698-87a7-42f1-af9e-a73a9b79c9c0",
     "showTitle": false,
     "tableResultSettingsMap": {},
     "title": ""
    }
   },
   "outputs": [],
   "source": [
    "data['country'] = data['country'].replace({'Aggregated Asia': 'Asia'})"
   ]
  },
  {
   "cell_type": "code",
   "execution_count": 0,
   "metadata": {
    "application/vnd.databricks.v1+cell": {
     "cellMetadata": {
      "byteLimit": 2048000,
      "rowLimit": 10000
     },
     "inputWidgets": {},
     "nuid": "0bf433a3-9ef0-4dc1-b7b2-b9d114440126",
     "showTitle": false,
     "tableResultSettingsMap": {},
     "title": ""
    }
   },
   "outputs": [
    {
     "output_type": "execute_result",
     "data": {
      "text/html": [
       "<div>\n",
       "<style scoped>\n",
       "    .dataframe tbody tr th:only-of-type {\n",
       "        vertical-align: middle;\n",
       "    }\n",
       "\n",
       "    .dataframe tbody tr th {\n",
       "        vertical-align: top;\n",
       "    }\n",
       "\n",
       "    .dataframe thead th {\n",
       "        text-align: right;\n",
       "    }\n",
       "</style>\n",
       "<table border=\"1\" class=\"dataframe\">\n",
       "  <thead>\n",
       "    <tr style=\"text-align: right;\">\n",
       "      <th>kpi</th>\n",
       "      <th>job_function</th>\n",
       "      <th>gptw_camaraderie</th>\n",
       "      <th>gptw_campari_questions</th>\n",
       "      <th>gptw_credibility</th>\n",
       "      <th>gptw_fairness</th>\n",
       "      <th>gptw_overall</th>\n",
       "      <th>gptw_pride</th>\n",
       "      <th>gptw_respect</th>\n",
       "      <th>gptw_responders</th>\n",
       "      <th>country</th>\n",
       "      <th>year</th>\n",
       "    </tr>\n",
       "  </thead>\n",
       "  <tbody>\n",
       "    <tr>\n",
       "      <th>0</th>\n",
       "      <td>overall</td>\n",
       "      <td>81</td>\n",
       "      <td>74</td>\n",
       "      <td>88</td>\n",
       "      <td>85</td>\n",
       "      <td>86</td>\n",
       "      <td>85</td>\n",
       "      <td>73</td>\n",
       "      <td>14</td>\n",
       "      <td>Asia</td>\n",
       "      <td>2018</td>\n",
       "    </tr>\n",
       "  </tbody>\n",
       "</table>\n",
       "</div>"
      ],
      "text/plain": [
       "kpi job_function  gptw_camaraderie  ...  country  year\n",
       "0        overall                81  ...     Asia  2018\n",
       "\n",
       "[1 rows x 11 columns]"
      ]
     },
     "execution_count": 54,
     "metadata": {},
     "output_type": "execute_result"
    }
   ],
   "source": [
    "data"
   ]
  },
  {
   "cell_type": "code",
   "execution_count": 0,
   "metadata": {
    "application/vnd.databricks.v1+cell": {
     "cellMetadata": {
      "byteLimit": 2048000,
      "rowLimit": 10000
     },
     "inputWidgets": {},
     "nuid": "e024ab7a-0b34-4a63-9d78-35ed111d7851",
     "showTitle": false,
     "tableResultSettingsMap": {},
     "title": ""
    }
   },
   "outputs": [
    {
     "output_type": "execute_result",
     "data": {
      "text/html": [
       "<div>\n",
       "<style scoped>\n",
       "    .dataframe tbody tr th:only-of-type {\n",
       "        vertical-align: middle;\n",
       "    }\n",
       "\n",
       "    .dataframe tbody tr th {\n",
       "        vertical-align: top;\n",
       "    }\n",
       "\n",
       "    .dataframe thead th {\n",
       "        text-align: right;\n",
       "    }\n",
       "</style>\n",
       "<table border=\"1\" class=\"dataframe\">\n",
       "  <thead>\n",
       "    <tr style=\"text-align: right;\">\n",
       "      <th></th>\n",
       "      <th>Unnamed: 0</th>\n",
       "      <th>Unnamed: 1</th>\n",
       "      <th>Unnamed: 2</th>\n",
       "      <th>South East Asia &amp; India</th>\n",
       "      <th>Result 2020/21</th>\n",
       "      <th>Campari 2020</th>\n",
       "      <th>Difference Overall Result - Benchmark</th>\n",
       "      <th>Bmk FMCG</th>\n",
       "      <th>Difference Overall Result - Benchmark.1</th>\n",
       "      <th>25 World's Best 2020</th>\n",
       "      <th>Difference Overall Result - Benchmark.2</th>\n",
       "    </tr>\n",
       "  </thead>\n",
       "  <tbody>\n",
       "    <tr>\n",
       "      <th>0</th>\n",
       "      <td>NaN</td>\n",
       "      <td>NaN</td>\n",
       "      <td>NaN</td>\n",
       "      <td>Overall Overview</td>\n",
       "      <td>NaN</td>\n",
       "      <td>NaN</td>\n",
       "      <td>NaN</td>\n",
       "      <td>NaN</td>\n",
       "      <td>NaN</td>\n",
       "      <td>NaN</td>\n",
       "      <td>NaN</td>\n",
       "    </tr>\n",
       "    <tr>\n",
       "      <th>1</th>\n",
       "      <td>NaN</td>\n",
       "      <td>NaN</td>\n",
       "      <td>NaN</td>\n",
       "      <td>Overall Response Rate: 92%</td>\n",
       "      <td>NaN</td>\n",
       "      <td>NaN</td>\n",
       "      <td>NaN</td>\n",
       "      <td>NaN</td>\n",
       "      <td>NaN</td>\n",
       "      <td>NaN</td>\n",
       "      <td>NaN</td>\n",
       "    </tr>\n",
       "    <tr>\n",
       "      <th>2</th>\n",
       "      <td>NaN</td>\n",
       "      <td>NaN</td>\n",
       "      <td>Number Of Responses</td>\n",
       "      <td>NaN</td>\n",
       "      <td>11</td>\n",
       "      <td>3196.000000</td>\n",
       "      <td>-</td>\n",
       "      <td>-</td>\n",
       "      <td>-</td>\n",
       "      <td>-</td>\n",
       "      <td>-</td>\n",
       "    </tr>\n",
       "    <tr>\n",
       "      <th>3</th>\n",
       "      <td>Credibility</td>\n",
       "      <td>1</td>\n",
       "      <td>Management keeps me informed about important i...</td>\n",
       "      <td>NaN</td>\n",
       "      <td>0.6</td>\n",
       "      <td>0.644836</td>\n",
       "      <td>-0.044836</td>\n",
       "      <td>0.682895</td>\n",
       "      <td>-0.082895</td>\n",
       "      <td>0.820576</td>\n",
       "      <td>-0.220576</td>\n",
       "    </tr>\n",
       "    <tr>\n",
       "      <th>4</th>\n",
       "      <td>NaN</td>\n",
       "      <td>2</td>\n",
       "      <td>Management makes its expectations clear.</td>\n",
       "      <td>NaN</td>\n",
       "      <td>0.636364</td>\n",
       "      <td>0.689786</td>\n",
       "      <td>-0.053422</td>\n",
       "      <td>0.713716</td>\n",
       "      <td>-0.077352</td>\n",
       "      <td>0.819076</td>\n",
       "      <td>-0.182712</td>\n",
       "    </tr>\n",
       "    <tr>\n",
       "      <th>...</th>\n",
       "      <td>...</td>\n",
       "      <td>...</td>\n",
       "      <td>...</td>\n",
       "      <td>...</td>\n",
       "      <td>...</td>\n",
       "      <td>...</td>\n",
       "      <td>...</td>\n",
       "      <td>...</td>\n",
       "      <td>...</td>\n",
       "      <td>...</td>\n",
       "      <td>...</td>\n",
       "    </tr>\n",
       "    <tr>\n",
       "      <th>83</th>\n",
       "      <td>NaN</td>\n",
       "      <td>74</td>\n",
       "      <td>Campari Group participates in campaigns/initia...</td>\n",
       "      <td>NaN</td>\n",
       "      <td>0.727273</td>\n",
       "      <td>0.753142</td>\n",
       "      <td>-0.025869</td>\n",
       "      <td>-</td>\n",
       "      <td>-</td>\n",
       "      <td>-</td>\n",
       "      <td>-</td>\n",
       "    </tr>\n",
       "    <tr>\n",
       "      <th>84</th>\n",
       "      <td>NaN</td>\n",
       "      <td>75</td>\n",
       "      <td>People around me are honest and ethical in the...</td>\n",
       "      <td>NaN</td>\n",
       "      <td>1</td>\n",
       "      <td>0.775775</td>\n",
       "      <td>0.224225</td>\n",
       "      <td>-</td>\n",
       "      <td>-</td>\n",
       "      <td>-</td>\n",
       "      <td>-</td>\n",
       "    </tr>\n",
       "    <tr>\n",
       "      <th>85</th>\n",
       "      <td>NaN</td>\n",
       "      <td>76</td>\n",
       "      <td>Campari Group is investing in new tools/system...</td>\n",
       "      <td>NaN</td>\n",
       "      <td>0.727273</td>\n",
       "      <td>0.764537</td>\n",
       "      <td>-0.037264</td>\n",
       "      <td>-</td>\n",
       "      <td>-</td>\n",
       "      <td>-</td>\n",
       "      <td>-</td>\n",
       "    </tr>\n",
       "    <tr>\n",
       "      <th>86</th>\n",
       "      <td>NaN</td>\n",
       "      <td>NaN</td>\n",
       "      <td>NaN</td>\n",
       "      <td>NaN</td>\n",
       "      <td>NaN</td>\n",
       "      <td>NaN</td>\n",
       "      <td>NaN</td>\n",
       "      <td>NaN</td>\n",
       "      <td>NaN</td>\n",
       "      <td>NaN</td>\n",
       "      <td>NaN</td>\n",
       "    </tr>\n",
       "    <tr>\n",
       "      <th>87</th>\n",
       "      <td>This material is comprised of Intellectual Pro...</td>\n",
       "      <td>NaN</td>\n",
       "      <td>NaN</td>\n",
       "      <td>NaN</td>\n",
       "      <td>NaN</td>\n",
       "      <td>NaN</td>\n",
       "      <td>NaN</td>\n",
       "      <td>NaN</td>\n",
       "      <td>NaN</td>\n",
       "      <td>NaN</td>\n",
       "      <td>NaN</td>\n",
       "    </tr>\n",
       "  </tbody>\n",
       "</table>\n",
       "<p>88 rows × 11 columns</p>\n",
       "</div>"
      ],
      "text/plain": [
       "                                           Unnamed: 0  ... Difference Overall Result - Benchmark.2\n",
       "0                                                 NaN  ...                                     NaN\n",
       "1                                                 NaN  ...                                     NaN\n",
       "2                                                 NaN  ...                                       -\n",
       "3                                         Credibility  ...                               -0.220576\n",
       "4                                                 NaN  ...                               -0.182712\n",
       "..                                                ...  ...                                     ...\n",
       "83                                                NaN  ...                                       -\n",
       "84                                                NaN  ...                                       -\n",
       "85                                                NaN  ...                                       -\n",
       "86                                                NaN  ...                                     NaN\n",
       "87  This material is comprised of Intellectual Pro...  ...                                     NaN\n",
       "\n",
       "[88 rows x 11 columns]"
      ]
     },
     "execution_count": 55,
     "metadata": {},
     "output_type": "execute_result"
    }
   ],
   "source": [
    "asia2020 = pd.read_excel(f\"{path_2020}{file_names_2020[22]}\", sheet_name= 1, skiprows = 1)\n",
    "asia2020"
   ]
  },
  {
   "cell_type": "code",
   "execution_count": 0,
   "metadata": {
    "application/vnd.databricks.v1+cell": {
     "cellMetadata": {
      "byteLimit": 2048000,
      "rowLimit": 10000
     },
     "inputWidgets": {},
     "nuid": "9ba89578-c0b4-4f3c-bbc4-4fb9d1a71da5",
     "showTitle": false,
     "tableResultSettingsMap": {},
     "title": ""
    }
   },
   "outputs": [
    {
     "output_type": "execute_result",
     "data": {
      "text/plain": [
       "'South East Asia & India'"
      ]
     },
     "execution_count": 56,
     "metadata": {},
     "output_type": "execute_result"
    }
   ],
   "source": [
    "country = re.match(r\"[^_]+\", file_names_2020[22]).group(0)\n",
    "country"
   ]
  },
  {
   "cell_type": "code",
   "execution_count": 0,
   "metadata": {
    "application/vnd.databricks.v1+cell": {
     "cellMetadata": {
      "byteLimit": 2048000,
      "rowLimit": 10000
     },
     "inputWidgets": {},
     "nuid": "528ac453-cbb7-40e0-a55c-f9b3d0657022",
     "showTitle": false,
     "tableResultSettingsMap": {},
     "title": ""
    }
   },
   "outputs": [],
   "source": [
    "overall_col = \"Result 2020/21\"\n",
    "column_mapping = {\n",
    "    asia2020.columns[0]: \"kpi\",  \n",
    "    asia2020.columns[1]: \"statement_idx\", \n",
    "   asia2020.columns[2]: \"statement\"  # Usare la variabile già definita statement_col\n",
    "}\n",
    "\n",
    "# Rinomina le colonne\n",
    "asia2020[\"overall\"] = asia2020[overall_col]\n",
    "asia2020 = asia2020.rename(columns=column_mapping)"
   ]
  },
  {
   "cell_type": "code",
   "execution_count": 0,
   "metadata": {
    "application/vnd.databricks.v1+cell": {
     "cellMetadata": {
      "byteLimit": 2048000,
      "rowLimit": 10000
     },
     "inputWidgets": {},
     "nuid": "481e01f1-9309-4add-831f-c564a5d5f8c7",
     "showTitle": false,
     "tableResultSettingsMap": {},
     "title": ""
    }
   },
   "outputs": [],
   "source": [
    "asia2020 = asia2020.iloc[:, [0, 1, 2] + [asia2020.columns.get_loc(\"overall\")]]\n",
    "asia2020 = asia2020.dropna(subset=[\"kpi\", \"statement_idx\", \"overall\"], how=\"all\")\n",
    "asia2020[\"kpi\"] = asia2020[\"kpi\"].fillna(method=\"ffill\").fillna(method=\"bfill\")\n",
    "asia2020 = asia2020[\n",
    "    (asia2020[\"kpi\"].isin(kpi_names)) &\n",
    "    ((asia2020[overall_col2search] == overall_val) if isinstance(overall_val, str) else asia2020[overall_col2search].isin(overall_val)) |\n",
    "    (asia2020[\"statement\"] == nresp_col)\n",
    "\n",
    "]"
   ]
  },
  {
   "cell_type": "code",
   "execution_count": 0,
   "metadata": {
    "application/vnd.databricks.v1+cell": {
     "cellMetadata": {
      "byteLimit": 2048000,
      "rowLimit": 10000
     },
     "inputWidgets": {},
     "nuid": "0c389b99-0dbc-40dc-96ea-f59d6b5808fa",
     "showTitle": false,
     "tableResultSettingsMap": {},
     "title": ""
    }
   },
   "outputs": [],
   "source": [
    "asia2020[\"kpi\"] = np.where(asia2020[\"statement_idx\"].isna(), \"Responders\", asia2020[\"kpi\"])\n",
    "asia2020['overall'] = asia2020['overall'].astype(float)\n",
    "asia2020['overall'] = np.where(asia2020['kpi'] != 'Responders', np.round(asia2020['overall'] * 100), asia2020['overall'])\n",
    "\n",
    "asia2020['overall'] = asia2020['overall'].apply(lambda x: int(x) if pd.notna(x) else pd.NA)"
   ]
  },
  {
   "cell_type": "code",
   "execution_count": 0,
   "metadata": {
    "application/vnd.databricks.v1+cell": {
     "cellMetadata": {
      "byteLimit": 2048000,
      "rowLimit": 10000
     },
     "inputWidgets": {},
     "nuid": "c42f43a3-78e3-4985-ba29-555c5bc0857b",
     "showTitle": false,
     "tableResultSettingsMap": {},
     "title": ""
    }
   },
   "outputs": [
    {
     "output_type": "execute_result",
     "data": {
      "text/html": [
       "<div>\n",
       "<style scoped>\n",
       "    .dataframe tbody tr th:only-of-type {\n",
       "        vertical-align: middle;\n",
       "    }\n",
       "\n",
       "    .dataframe tbody tr th {\n",
       "        vertical-align: top;\n",
       "    }\n",
       "\n",
       "    .dataframe thead th {\n",
       "        text-align: right;\n",
       "    }\n",
       "</style>\n",
       "<table border=\"1\" class=\"dataframe\">\n",
       "  <thead>\n",
       "    <tr style=\"text-align: right;\">\n",
       "      <th></th>\n",
       "      <th>kpi</th>\n",
       "      <th>statement_idx</th>\n",
       "      <th>statement</th>\n",
       "      <th>overall</th>\n",
       "    </tr>\n",
       "  </thead>\n",
       "  <tbody>\n",
       "    <tr>\n",
       "      <th>2</th>\n",
       "      <td>Responders</td>\n",
       "      <td>NaN</td>\n",
       "      <td>Number Of Responses</td>\n",
       "      <td>11</td>\n",
       "    </tr>\n",
       "    <tr>\n",
       "      <th>18</th>\n",
       "      <td>Credibility</td>\n",
       "      <td>Average</td>\n",
       "      <td>NaN</td>\n",
       "      <td>71</td>\n",
       "    </tr>\n",
       "    <tr>\n",
       "      <th>33</th>\n",
       "      <td>Respect</td>\n",
       "      <td>Average</td>\n",
       "      <td>NaN</td>\n",
       "      <td>71</td>\n",
       "    </tr>\n",
       "    <tr>\n",
       "      <th>46</th>\n",
       "      <td>Fairness</td>\n",
       "      <td>Average</td>\n",
       "      <td>NaN</td>\n",
       "      <td>81</td>\n",
       "    </tr>\n",
       "    <tr>\n",
       "      <th>58</th>\n",
       "      <td>Pride</td>\n",
       "      <td>Average</td>\n",
       "      <td>NaN</td>\n",
       "      <td>79</td>\n",
       "    </tr>\n",
       "    <tr>\n",
       "      <th>66</th>\n",
       "      <td>Camaraderie</td>\n",
       "      <td>Average</td>\n",
       "      <td>NaN</td>\n",
       "      <td>64</td>\n",
       "    </tr>\n",
       "  </tbody>\n",
       "</table>\n",
       "</div>"
      ],
      "text/plain": [
       "            kpi statement_idx            statement  overall\n",
       "2    Responders           NaN  Number Of Responses       11\n",
       "18  Credibility       Average                  NaN       71\n",
       "33      Respect       Average                  NaN       71\n",
       "46     Fairness       Average                  NaN       81\n",
       "58        Pride       Average                  NaN       79\n",
       "66  Camaraderie       Average                  NaN       64"
      ]
     },
     "execution_count": 60,
     "metadata": {},
     "output_type": "execute_result"
    }
   ],
   "source": [
    "asia2020"
   ]
  },
  {
   "cell_type": "code",
   "execution_count": 0,
   "metadata": {
    "application/vnd.databricks.v1+cell": {
     "cellMetadata": {
      "byteLimit": 2048000,
      "rowLimit": 10000
     },
     "inputWidgets": {},
     "nuid": "ab8d08bc-8e6a-4448-8e4c-067ce9820940",
     "showTitle": false,
     "tableResultSettingsMap": {},
     "title": ""
    }
   },
   "outputs": [
    {
     "output_type": "stream",
     "name": "stderr",
     "output_type": "stream",
     "text": [
      "/home/spark-29e4634b-ac1d-4dd9-9124-23/.ipykernel/2689/command-3332546666198086-3531830304:2: SettingWithCopyWarning: \nA value is trying to be set on a copy of a slice from a DataFrame.\nTry using .loc[row_indexer,col_indexer] = value instead\n\nSee the caveats in the documentation: https://pandas.pydata.org/pandas-docs/stable/user_guide/indexing.html#returning-a-view-versus-a-copy\n  asia2020[\"job_function\"] = \"overall\"\n"
     ]
    }
   ],
   "source": [
    "asia2020 = asia2020.iloc[:,[asia2020.columns.get_loc(\"kpi\")]+ [asia2020.columns.get_loc(\"overall\")]]\n",
    "asia2020[\"job_function\"] = \"overall\"\n",
    "asia2020 = asia2020.pivot(index=['job_function'], columns=\"kpi\", values=\"overall\").add_prefix(\"gptw_\").reset_index()\n",
    "asia2020[\"country\"] = country\n",
    "asia2020[\"year\"] = 2020\n",
    "asia2020.columns = asia2020.columns.to_series().apply(simplify_string)\n"
   ]
  },
  {
   "cell_type": "code",
   "execution_count": 0,
   "metadata": {
    "application/vnd.databricks.v1+cell": {
     "cellMetadata": {
      "byteLimit": 2048000,
      "rowLimit": 10000
     },
     "inputWidgets": {},
     "nuid": "c65e24df-f9f4-4cf1-aac0-c7bacd0d9c72",
     "showTitle": false,
     "tableResultSettingsMap": {},
     "title": ""
    }
   },
   "outputs": [
    {
     "output_type": "execute_result",
     "data": {
      "text/html": [
       "<div>\n",
       "<style scoped>\n",
       "    .dataframe tbody tr th:only-of-type {\n",
       "        vertical-align: middle;\n",
       "    }\n",
       "\n",
       "    .dataframe tbody tr th {\n",
       "        vertical-align: top;\n",
       "    }\n",
       "\n",
       "    .dataframe thead th {\n",
       "        text-align: right;\n",
       "    }\n",
       "</style>\n",
       "<table border=\"1\" class=\"dataframe\">\n",
       "  <thead>\n",
       "    <tr style=\"text-align: right;\">\n",
       "      <th>kpi</th>\n",
       "      <th>job_function</th>\n",
       "      <th>gptw_camaraderie</th>\n",
       "      <th>gptw_credibility</th>\n",
       "      <th>gptw_fairness</th>\n",
       "      <th>gptw_pride</th>\n",
       "      <th>gptw_respect</th>\n",
       "      <th>gptw_responders</th>\n",
       "      <th>country</th>\n",
       "      <th>year</th>\n",
       "    </tr>\n",
       "  </thead>\n",
       "  <tbody>\n",
       "    <tr>\n",
       "      <th>0</th>\n",
       "      <td>overall</td>\n",
       "      <td>64</td>\n",
       "      <td>71</td>\n",
       "      <td>81</td>\n",
       "      <td>79</td>\n",
       "      <td>71</td>\n",
       "      <td>11</td>\n",
       "      <td>South East Asia &amp; India</td>\n",
       "      <td>2020</td>\n",
       "    </tr>\n",
       "  </tbody>\n",
       "</table>\n",
       "</div>"
      ],
      "text/plain": [
       "kpi job_function  gptw_camaraderie  ...                  country  year\n",
       "0        overall                64  ...  South East Asia & India  2020\n",
       "\n",
       "[1 rows x 9 columns]"
      ]
     },
     "execution_count": 62,
     "metadata": {},
     "output_type": "execute_result"
    }
   ],
   "source": [
    "asia2020"
   ]
  },
  {
   "cell_type": "code",
   "execution_count": 0,
   "metadata": {
    "application/vnd.databricks.v1+cell": {
     "cellMetadata": {
      "byteLimit": 2048000,
      "rowLimit": 10000
     },
     "inputWidgets": {},
     "nuid": "8485f30a-1d74-4e7a-9d33-080609a1f19a",
     "showTitle": false,
     "tableResultSettingsMap": {},
     "title": ""
    }
   },
   "outputs": [],
   "source": [
    "asia2020['country'] = asia2020['country'].replace({'South East Asia & India': 'south_east_asia'})"
   ]
  },
  {
   "cell_type": "code",
   "execution_count": 0,
   "metadata": {
    "application/vnd.databricks.v1+cell": {
     "cellMetadata": {
      "byteLimit": 2048000,
      "rowLimit": 10000
     },
     "inputWidgets": {},
     "nuid": "7040d4ff-cca2-4b4a-a3a6-2227731fc1b7",
     "showTitle": false,
     "tableResultSettingsMap": {},
     "title": ""
    }
   },
   "outputs": [
    {
     "output_type": "execute_result",
     "data": {
      "text/html": [
       "<div>\n",
       "<style scoped>\n",
       "    .dataframe tbody tr th:only-of-type {\n",
       "        vertical-align: middle;\n",
       "    }\n",
       "\n",
       "    .dataframe tbody tr th {\n",
       "        vertical-align: top;\n",
       "    }\n",
       "\n",
       "    .dataframe thead th {\n",
       "        text-align: right;\n",
       "    }\n",
       "</style>\n",
       "<table border=\"1\" class=\"dataframe\">\n",
       "  <thead>\n",
       "    <tr style=\"text-align: right;\">\n",
       "      <th>kpi</th>\n",
       "      <th>job_function</th>\n",
       "      <th>gptw_camaraderie</th>\n",
       "      <th>gptw_credibility</th>\n",
       "      <th>gptw_fairness</th>\n",
       "      <th>gptw_overall</th>\n",
       "      <th>gptw_pride</th>\n",
       "      <th>gptw_respect</th>\n",
       "      <th>gptw_responders</th>\n",
       "      <th>country</th>\n",
       "      <th>year</th>\n",
       "    </tr>\n",
       "  </thead>\n",
       "  <tbody>\n",
       "    <tr>\n",
       "      <th>0</th>\n",
       "      <td>engineering_maintenance</td>\n",
       "      <td>84</td>\n",
       "      <td>67</td>\n",
       "      <td>67</td>\n",
       "      <td>90</td>\n",
       "      <td>91</td>\n",
       "      <td>65</td>\n",
       "      <td>10</td>\n",
       "      <td>Argentina</td>\n",
       "      <td>2016</td>\n",
       "    </tr>\n",
       "    <tr>\n",
       "      <th>1</th>\n",
       "      <td>finance_internal_audit</td>\n",
       "      <td>61</td>\n",
       "      <td>60</td>\n",
       "      <td>61</td>\n",
       "      <td>47</td>\n",
       "      <td>55</td>\n",
       "      <td>67</td>\n",
       "      <td>15</td>\n",
       "      <td>Argentina</td>\n",
       "      <td>2016</td>\n",
       "    </tr>\n",
       "    <tr>\n",
       "      <th>2</th>\n",
       "      <td>logistics_customer_service</td>\n",
       "      <td>79</td>\n",
       "      <td>77</td>\n",
       "      <td>72</td>\n",
       "      <td>88</td>\n",
       "      <td>88</td>\n",
       "      <td>81</td>\n",
       "      <td>17</td>\n",
       "      <td>Argentina</td>\n",
       "      <td>2016</td>\n",
       "    </tr>\n",
       "    <tr>\n",
       "      <th>3</th>\n",
       "      <td>marketing_communication</td>\n",
       "      <td>92</td>\n",
       "      <td>89</td>\n",
       "      <td>74</td>\n",
       "      <td>100</td>\n",
       "      <td>88</td>\n",
       "      <td>87</td>\n",
       "      <td>10</td>\n",
       "      <td>Argentina</td>\n",
       "      <td>2016</td>\n",
       "    </tr>\n",
       "    <tr>\n",
       "      <th>4</th>\n",
       "      <td>operations_production</td>\n",
       "      <td>77</td>\n",
       "      <td>70</td>\n",
       "      <td>63</td>\n",
       "      <td>77</td>\n",
       "      <td>79</td>\n",
       "      <td>65</td>\n",
       "      <td>39</td>\n",
       "      <td>Argentina</td>\n",
       "      <td>2016</td>\n",
       "    </tr>\n",
       "    <tr>\n",
       "      <th>...</th>\n",
       "      <td>...</td>\n",
       "      <td>...</td>\n",
       "      <td>...</td>\n",
       "      <td>...</td>\n",
       "      <td>...</td>\n",
       "      <td>...</td>\n",
       "      <td>...</td>\n",
       "      <td>...</td>\n",
       "      <td>...</td>\n",
       "      <td>...</td>\n",
       "    </tr>\n",
       "    <tr>\n",
       "      <th>344</th>\n",
       "      <td>overall</td>\n",
       "      <td>74</td>\n",
       "      <td>66</td>\n",
       "      <td>66</td>\n",
       "      <td>79</td>\n",
       "      <td>76</td>\n",
       "      <td>66</td>\n",
       "      <td>390</td>\n",
       "      <td>United States</td>\n",
       "      <td>2020</td>\n",
       "    </tr>\n",
       "    <tr>\n",
       "      <th>345</th>\n",
       "      <td>planning</td>\n",
       "      <td>63</td>\n",
       "      <td>64</td>\n",
       "      <td>70</td>\n",
       "      <td>64</td>\n",
       "      <td>55</td>\n",
       "      <td>66</td>\n",
       "      <td>11</td>\n",
       "      <td>United States</td>\n",
       "      <td>2020</td>\n",
       "    </tr>\n",
       "    <tr>\n",
       "      <th>346</th>\n",
       "      <td>quality</td>\n",
       "      <td>75</td>\n",
       "      <td>72</td>\n",
       "      <td>64</td>\n",
       "      <td>92</td>\n",
       "      <td>73</td>\n",
       "      <td>72</td>\n",
       "      <td>12</td>\n",
       "      <td>United States</td>\n",
       "      <td>2020</td>\n",
       "    </tr>\n",
       "    <tr>\n",
       "      <th>347</th>\n",
       "      <td>staff_professional_white_collars</td>\n",
       "      <td>79</td>\n",
       "      <td>74</td>\n",
       "      <td>71</td>\n",
       "      <td>86</td>\n",
       "      <td>80</td>\n",
       "      <td>73</td>\n",
       "      <td>226</td>\n",
       "      <td>United States</td>\n",
       "      <td>2020</td>\n",
       "    </tr>\n",
       "    <tr>\n",
       "      <th>348</th>\n",
       "      <td>overall</td>\n",
       "      <td>64</td>\n",
       "      <td>71</td>\n",
       "      <td>81</td>\n",
       "      <td>NaN</td>\n",
       "      <td>79</td>\n",
       "      <td>71</td>\n",
       "      <td>11</td>\n",
       "      <td>south_east_asia</td>\n",
       "      <td>2020</td>\n",
       "    </tr>\n",
       "  </tbody>\n",
       "</table>\n",
       "<p>349 rows × 10 columns</p>\n",
       "</div>"
      ],
      "text/plain": [
       "kpi                      job_function gptw_camaraderie  ...          country  year\n",
       "0             engineering_maintenance               84  ...        Argentina  2016\n",
       "1              finance_internal_audit               61  ...        Argentina  2016\n",
       "2          logistics_customer_service               79  ...        Argentina  2016\n",
       "3             marketing_communication               92  ...        Argentina  2016\n",
       "4               operations_production               77  ...        Argentina  2016\n",
       "..                                ...              ...  ...              ...   ...\n",
       "344                           overall               74  ...    United States  2020\n",
       "345                          planning               63  ...    United States  2020\n",
       "346                           quality               75  ...    United States  2020\n",
       "347  staff_professional_white_collars               79  ...    United States  2020\n",
       "348                           overall               64  ...  south_east_asia  2020\n",
       "\n",
       "[349 rows x 10 columns]"
      ]
     },
     "execution_count": 64,
     "metadata": {},
     "output_type": "execute_result"
    }
   ],
   "source": [
    "df_combined_2018 = pd.concat([gptw2018, data], ignore_index=True)\n",
    "df_combined_2020 = pd.concat([gptw2020, asia2020], ignore_index=True)\n",
    "df_final = pd.concat([gptw2016, df_combined_2018], ignore_index=True)\n",
    "df_final = df_final.drop(columns=['gptw_campari_questions'], errors='ignore')\n",
    "df_final = pd.concat([df_final, df_combined_2020], ignore_index=True)\n",
    "df_final\n"
   ]
  },
  {
   "cell_type": "code",
   "execution_count": 0,
   "metadata": {
    "application/vnd.databricks.v1+cell": {
     "cellMetadata": {
      "byteLimit": 2048000,
      "rowLimit": 10000
     },
     "inputWidgets": {},
     "nuid": "afbc2505-342b-49e5-a3b6-a81bed7fbe61",
     "showTitle": false,
     "tableResultSettingsMap": {},
     "title": ""
    }
   },
   "outputs": [
    {
     "output_type": "execute_result",
     "data": {
      "text/plain": [
       "False    349\n",
       "Name: gptw_credibility, dtype: int64"
      ]
     },
     "execution_count": 65,
     "metadata": {},
     "output_type": "execute_result"
    }
   ],
   "source": [
    "df_final['gptw_credibility'].isna().value_counts()"
   ]
  },
  {
   "cell_type": "code",
   "execution_count": 0,
   "metadata": {
    "application/vnd.databricks.v1+cell": {
     "cellMetadata": {
      "byteLimit": 2048000,
      "rowLimit": 10000
     },
     "inputWidgets": {},
     "nuid": "d7a47de4-1497-43c3-a1a4-4531981a8e85",
     "showTitle": false,
     "tableResultSettingsMap": {},
     "title": ""
    }
   },
   "outputs": [
    {
     "output_type": "execute_result",
     "data": {
      "text/plain": [
       "Italy                        47\n",
       "Jamaica                      37\n",
       "United States                33\n",
       "Brazil                       26\n",
       "Argentina                    22\n",
       "Russia                       18\n",
       "Australia                    18\n",
       "Mexico                       17\n",
       "Supply Chain Americas        15\n",
       "United Kingdom               14\n",
       "Canada                       13\n",
       "Germany                      11\n",
       "France                       11\n",
       "Supply Chain Europe           9\n",
       "Spain                         7\n",
       "Supply Chain Asia Pacific     6\n",
       "Switzerland                   6\n",
       "Ukraine                       6\n",
       "Greece                        6\n",
       "Belgium                       6\n",
       "Peru                          5\n",
       "China                         4\n",
       "Singapore                     3\n",
       "Austria                       3\n",
       "South Africa                  2\n",
       "Japan                         2\n",
       "Asia                          1\n",
       "south_east_asia               1\n",
       "Name: country, dtype: int64"
      ]
     },
     "execution_count": 66,
     "metadata": {},
     "output_type": "execute_result"
    }
   ],
   "source": [
    "df_final['country'].value_counts()"
   ]
  },
  {
   "cell_type": "code",
   "execution_count": 0,
   "metadata": {
    "application/vnd.databricks.v1+cell": {
     "cellMetadata": {
      "byteLimit": 2048000,
      "rowLimit": 10000
     },
     "inputWidgets": {},
     "nuid": "87428540-e549-4154-9967-693d4ed02ae0",
     "showTitle": false,
     "tableResultSettingsMap": {},
     "title": ""
    }
   },
   "outputs": [],
   "source": [
    "df_final.to_csv(f\"/Volumes/dev_advanced_analytics_hr/default/input_files/hr_turnover/data_cleaning//data_gptw_2016-2020_v06.csv\", sep=\";\", index=False)"
   ]
  },
  {
   "cell_type": "code",
   "execution_count": 0,
   "metadata": {
    "application/vnd.databricks.v1+cell": {
     "cellMetadata": {
      "byteLimit": 2048000,
      "rowLimit": 10000
     },
     "inputWidgets": {},
     "nuid": "6942ced1-995a-464a-ae50-24f1e6c1b035",
     "showTitle": false,
     "tableResultSettingsMap": {},
     "title": ""
    }
   },
   "outputs": [],
   "source": []
  }
 ],
 "metadata": {
  "application/vnd.databricks.v1+notebook": {
   "computePreferences": null,
   "dashboards": [],
   "environmentMetadata": {
    "base_environment": "",
    "environment_version": "2"
   },
   "inputWidgetPreferences": null,
   "language": "python",
   "notebookMetadata": {
    "pythonIndentUnit": 4
   },
   "notebookName": "02-read_gptw_before2022",
   "widgets": {}
  },
  "language_info": {
   "name": "python"
  }
 },
 "nbformat": 4,
 "nbformat_minor": 0
}